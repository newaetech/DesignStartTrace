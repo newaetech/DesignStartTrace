{
 "cells": [
  {
   "cell_type": "markdown",
   "metadata": {},
   "source": [
    "# Using Trace to Show Functions on Power Traces\n",
    "This notebook is for the CW305 or the CW610 with the K82 target using the parallel trace interface.\n",
    "\n",
    "It can be ported to other targets using the SWO interface (see `TraceWhisperer.ipynb` for the differences), however the lower bandwidth of SWO will reduce the granularity significantly."
   ]
  },
  {
   "cell_type": "code",
   "execution_count": null,
   "metadata": {},
   "outputs": [],
   "source": [
    "TRACE_PLATFORM = 'CW610' # AKA PhyWhisperer\n",
    "#TRACE_PLATFORM = 'CW305' # CW305 FPGA target board\n",
    "\n",
    "#PLATFORM = 'CW305'\n",
    "PLATFORM = 'CW308_K82F'"
   ]
  },
  {
   "cell_type": "code",
   "execution_count": null,
   "metadata": {},
   "outputs": [],
   "source": [
    "from chipwhisperer.capture.trace.TraceWhisperer import TraceWhisperer"
   ]
  },
  {
   "cell_type": "code",
   "execution_count": null,
   "metadata": {},
   "outputs": [],
   "source": [
    "##### TODO: point to standard bitfile and defines ########\n",
    "defines = ['../hardware/CW305_DesignStart/hdl/defines_trace.v', '../hardware/phywhisperer/software/phywhisperer/firmware/defines_pw.v']"
   ]
  },
  {
   "cell_type": "code",
   "execution_count": null,
   "metadata": {},
   "outputs": [],
   "source": [
    "# platform setup:\n",
    "if TRACE_PLATFORM == 'CW610':\n",
    "    SCOPETYPE = 'OPENADC'\n",
    "    %run \"Helper_Scripts/Setup_Generic.ipynb\"\n",
    "    trace = TraceWhisperer(target, scope, force_bitfile=False, defines_files=defines)\n",
    "    #trace = TraceWhisperer(target, scope, force_bitfile=True, bs='../hardware/tracewhisperer/vivado/tracewhisperer.runs/impl_no_ilas/tracewhisperer_top.bit', defines_files=defines)\n",
    "    scope.clock.adc_src = \"clkgen_x1\"\n",
    "    scope.adc.samples = 10000\n",
    "    scope.gain.setGain(20)\n",
    "\n",
    "else:\n",
    "    %run \"Helper_Scripts/Setup_CW305_DST.ipynb\"\n",
    "    scope.clock.adc_src = \"extclk_x1\"\n",
    "    scope.adc.samples = 10000\n",
    "    trace = TraceWhisperer(target, scope, defines_files=defines)"
   ]
  },
  {
   "cell_type": "code",
   "execution_count": null,
   "metadata": {},
   "outputs": [],
   "source": [
    "# required after programming some targets:\n",
    "def target_reset():\n",
    "    if TRACE_PLATFORM == 'CW610':\n",
    "        scope.io.nrst = 'low'\n",
    "        time.sleep(0.05)\n",
    "        scope.io.nrst = 'high'\n",
    "        time.sleep(0.05)"
   ]
  },
  {
   "cell_type": "code",
   "execution_count": null,
   "metadata": {},
   "outputs": [],
   "source": [
    "target_reset()"
   ]
  },
  {
   "cell_type": "code",
   "execution_count": null,
   "metadata": {},
   "outputs": [],
   "source": [
    "print(trace.phywhisperer_name())\n",
    "print(trace.get_fw_buildtime())\n",
    "print(trace.fpga_buildtime)"
   ]
  },
  {
   "cell_type": "code",
   "execution_count": null,
   "metadata": {},
   "outputs": [],
   "source": [
    "trace.capture.raw = True\n",
    "trace.capture.trigger_source = 'firmware trigger'\n",
    "trace.capture.mode = 'while_trig'\n",
    "trace.trace_mode = 'parallel'"
   ]
  },
  {
   "cell_type": "markdown",
   "metadata": {},
   "source": [
    "## Set the periodic PC sampling parameters:\n",
    "This will set the PC sampling frequency to its maximum: every 64 clock cycles.\n",
    "\n",
    "Use a small POSTINIT delay to ensure that PC samples do not start before the trigger is received.\n",
    "\n",
    "Note that PC sampling will be enabled by the target only upon triggering; again this is to ensure that PC sampling does not begin before we start capturing traces."
   ]
  },
  {
   "cell_type": "code",
   "execution_count": null,
   "metadata": {},
   "outputs": [],
   "source": [
    "trace.set_periodic_pc_sampling(enable=1, cyctap=0, postinit=1, postreset=0)"
   ]
  },
  {
   "cell_type": "code",
   "execution_count": null,
   "metadata": {},
   "outputs": [],
   "source": [
    "trace.arm_trace()"
   ]
  },
  {
   "cell_type": "code",
   "execution_count": null,
   "metadata": {},
   "outputs": [],
   "source": [
    "ktp = cw.ktp.Basic()\n",
    "key, text = ktp.next()\n",
    "powertrace = cw.capture_trace(scope, trace._ss, text, key)"
   ]
  },
  {
   "cell_type": "code",
   "execution_count": null,
   "metadata": {},
   "outputs": [],
   "source": [
    "raw = trace.read_capture_data()\n",
    "len(raw)"
   ]
  },
  {
   "cell_type": "code",
   "execution_count": null,
   "metadata": {},
   "outputs": [],
   "source": [
    "frames = trace.get_raw_trace_packets(raw, removesyncs=True, verbose=False)\n",
    "len(frames)"
   ]
  },
  {
   "cell_type": "code",
   "execution_count": null,
   "metadata": {},
   "outputs": [],
   "source": [
    "trace.write_raw_capture(frames, 'raw.bin')"
   ]
  },
  {
   "cell_type": "code",
   "execution_count": null,
   "metadata": {},
   "outputs": [],
   "source": [
    "# sanity check that first TPI auxiliary byte shows up in the right place, so that Orbuculum can parse:\n",
    "for f in [frames]:\n",
    "    if len(f[0][1]) == 6 and len(f[1][1]) == 6 and len(f[2][1]) == 8:\n",
    "        print(\"Checks out!\")\n",
    "    else:\n",
    "        print('oh-ho...')"
   ]
  },
  {
   "cell_type": "code",
   "execution_count": null,
   "metadata": {},
   "outputs": [],
   "source": [
    "for f in frames[:3]:\n",
    "    for b in f[1]:\n",
    "        #print(hex(b), end=' ')\n",
    "        print('%02x ' % b, end='')\n",
    "    print()"
   ]
  },
  {
   "cell_type": "markdown",
   "metadata": {},
   "source": [
    "## Next we run Orbuculum to extract the list of sampled addresses:\n",
    "\n",
    "(adjust path as needed for your installation)"
   ]
  },
  {
   "cell_type": "code",
   "execution_count": null,
   "metadata": {},
   "outputs": [],
   "source": [
    "%%bash\n",
    "/home/jpnewae/git/orbuculum/ofiles/orbuculum -t -f raw.bin -P -e\n",
    "wc hwevent"
   ]
  },
  {
   "cell_type": "code",
   "execution_count": null,
   "metadata": {},
   "outputs": [],
   "source": [
    "hwe = open('hwevent', 'r')"
   ]
  },
  {
   "cell_type": "code",
   "execution_count": null,
   "metadata": {},
   "outputs": [],
   "source": [
    "import re\n",
    "event_regex = re.compile(r'2,\\d+,(.+)$')"
   ]
  },
  {
   "cell_type": "code",
   "execution_count": null,
   "metadata": {},
   "outputs": [],
   "source": [
    "addresses = []\n",
    "for l in hwe:\n",
    "    match = event_regex.search(l)\n",
    "    if match:\n",
    "        addresses.append(int(match.group(1), 16))\n",
    "    else:\n",
    "        print('\\t *** MISMATCH: %s' % l)\n",
    "hwe.close()"
   ]
  },
  {
   "cell_type": "markdown",
   "metadata": {},
   "source": [
    "## Then we grab the start and size of functions from the binary:\n",
    "\n",
    "(adjust paths as needed for your installation)"
   ]
  },
  {
   "cell_type": "code",
   "execution_count": null,
   "metadata": {},
   "outputs": [],
   "source": [
    "if PLATFORM == 'CW305':\n",
    "    objdump = !arm-none-eabi-objdump -t ../hardware/CW305_DesignStart/bram_a7.elf\n",
    "else:\n",
    "    objdump = !arm-none-eabi-objdump -t ../../cw_develop/hardware/victims/firmware/simpleserial-trace/simpleserial-trace-CW308_K82F.elf"
   ]
  },
  {
   "cell_type": "code",
   "execution_count": null,
   "metadata": {},
   "outputs": [],
   "source": [
    "objdump_regex = re.compile(r'(\\w{8})\\s+\\w\\s+F.+?\\s(\\w{8}) (\\.hidden )?(\\w+)$')\n",
    "matches = 0\n",
    "mismatches = 0\n",
    "funcs = []\n",
    "for l in objdump:\n",
    "    match = objdump_regex.search(l)\n",
    "    if match:\n",
    "        matches += 1\n",
    "        start = match.group(1)\n",
    "        size = match.group(2)\n",
    "        name = match.group(4)\n",
    "        if int(size, 16) == 0:\n",
    "            continue\n",
    "        funcs.append([int(start, 16), int(size, 16), name])\n",
    "    else:\n",
    "        mismatches += 1"
   ]
  },
  {
   "cell_type": "markdown",
   "metadata": {},
   "source": [
    "## Now we can add the function name that every sampled PC value belongs to, in our time-stamped frame list:"
   ]
  },
  {
   "cell_type": "code",
   "execution_count": null,
   "metadata": {},
   "outputs": [],
   "source": [
    "found_functions = []\n",
    "for i, addy in enumerate(addresses):\n",
    "    found = False\n",
    "    for func in funcs:\n",
    "        if addy >= func[0] and addy < func[0] + func[1]:\n",
    "            #print('%08x: %s' % (addy, func[2]))\n",
    "            found = True\n",
    "            frames[i].append(func[2])\n",
    "            if func[2] not in found_functions:\n",
    "                found_functions.append(func[2])\n",
    "            break\n",
    "    if not found:\n",
    "        print(\"\\t\\t\\t*** couldn't find address %08x!\" % addy)"
   ]
  },
  {
   "cell_type": "code",
   "execution_count": null,
   "metadata": {},
   "outputs": [],
   "source": [
    "# what our frames list looks like now:\n",
    "frames[:5]"
   ]
  },
  {
   "cell_type": "code",
   "execution_count": null,
   "metadata": {},
   "outputs": [],
   "source": [
    "# which functions were sampled:\n",
    "found_functions"
   ]
  },
  {
   "cell_type": "markdown",
   "metadata": {},
   "source": [
    "## We now have everything we need to plot"
   ]
  },
  {
   "cell_type": "code",
   "execution_count": null,
   "metadata": {},
   "outputs": [],
   "source": [
    "from bokeh.palettes import Set1\n",
    "palette = Set1[9]"
   ]
  },
  {
   "cell_type": "code",
   "execution_count": null,
   "metadata": {},
   "outputs": [],
   "source": [
    "from bokeh.plotting import figure, show\n",
    "from bokeh.io import output_notebook\n",
    "from bokeh.resources import INLINE\n",
    "from bokeh.models import Span\n",
    "\n",
    "output_notebook(INLINE)\n",
    "p = figure(plot_width=1500, plot_height=700)\n",
    "\n",
    "xrange = range(len(powertrace.wave))\n",
    "p.line(xrange, powertrace.wave, line_color=\"black\")"
   ]
  },
  {
   "cell_type": "code",
   "execution_count": null,
   "metadata": {},
   "outputs": [],
   "source": [
    "if scope.clock.adc_src == 'clkgen_x4' or scope.clock.adc_src == 'extclk_x4':\n",
    "    multiplier = 4\n",
    "else:\n",
    "    multiplier = 1"
   ]
  },
  {
   "cell_type": "code",
   "execution_count": null,
   "metadata": {},
   "outputs": [],
   "source": [
    "loy = min(powertrace.wave)\n",
    "hiy = max(powertrace.wave)"
   ]
  },
  {
   "cell_type": "code",
   "execution_count": null,
   "metadata": {},
   "outputs": [],
   "source": [
    "# add legend\n",
    "for i,f in enumerate(found_functions):\n",
    "    if i < len(palette):\n",
    "        p.rect(x=0 ,y=0, width=0.01, height=0.01, color=palette[i], alpha=0.3, legend_label=f, visible=False)"
   ]
  },
  {
   "cell_type": "code",
   "execution_count": null,
   "metadata": {},
   "outputs": [],
   "source": [
    "for i,f in enumerate(frames[:-1]):\n",
    "    if len(f) != 3:\n",
    "        pass\n",
    "    elif found_functions.index(f[2]) < len(palette):\n",
    "        p.quad(left=f[0]*multiplier, bottom=loy, right=frames[i+1][0]*multiplier-1, top=hiy, color=palette[found_functions.index(f[2])], alpha=0.4)\n",
    "    else:\n",
    "        print(\"Running out of colors! Choose a different palette?\")"
   ]
  },
  {
   "cell_type": "code",
   "execution_count": null,
   "metadata": {},
   "outputs": [],
   "source": [
    "p.legend.label_text_font_size = \"18pt\""
   ]
  },
  {
   "cell_type": "code",
   "execution_count": null,
   "metadata": {},
   "outputs": [],
   "source": [
    "show(p)"
   ]
  },
  {
   "cell_type": "markdown",
   "metadata": {},
   "source": [
    "# Can we do better?\n",
    "If you zoom in, you can clearly see that the PC samples are every 64 cycles. Unfortunately that is the maximum sampling rate possible, even though our 4-bit trace port has much higher bandwidth.\n",
    "\n",
    "In the example above, you can probably see what appears to be highly varying ratios of time spent in `xtime()` vs time spent in `MixColumns()` from round to round, while is reality the time in each is probably constant; this is a artifact of our low sampling rate.\n",
    "\n",
    "But we can take advantage of the fact that the timing of the first PC sample (relative to when sampling is enabled) is somewhat random. If you repeat the capture several times, you'll notice the timestamp of the first captured frame varies. Try it!"
   ]
  },
  {
   "cell_type": "code",
   "execution_count": null,
   "metadata": {},
   "outputs": [],
   "source": [
    "# timestamp for the first PC sample packet; if you repeat the capture, you'll likely find a different timestamp each time:\n",
    "frames[0][0]"
   ]
  },
  {
   "cell_type": "markdown",
   "metadata": {},
   "source": [
    "If the target can be made to execute the exact same code path repeatedly, you can take advantage of this variability to collect and combine multiple traces and thus effectively get finer PC sampling granularity! Let's do just that. We'll repeat the capture 10 times and keep the trace sets whose timestamps are furthest apart."
   ]
  },
  {
   "cell_type": "code",
   "execution_count": null,
   "metadata": {},
   "outputs": [],
   "source": [
    "runs = 10"
   ]
  },
  {
   "cell_type": "code",
   "execution_count": null,
   "metadata": {},
   "outputs": [],
   "source": [
    "more_frames = []\n",
    "for i in range(runs):\n",
    "    trace.arm_trace()\n",
    "    throwaway = cw.capture_trace(scope, trace._ss, text, key)\n",
    "    raw = trace.read_capture_data()\n",
    "    frames = trace.get_raw_trace_packets(raw, removesyncs=True, verbose=False)\n",
    "    more_frames.append(frames)\n",
    "    print('run %d: %d raw entries, %d frames' % (i, len(raw), len(frames)))"
   ]
  },
  {
   "cell_type": "code",
   "execution_count": null,
   "metadata": {},
   "outputs": [],
   "source": [
    "for i,frame_set in enumerate(more_frames):\n",
    "    print('run %2d: first frame offset = %d' % (i, frame_set[0][0]))"
   ]
  },
  {
   "cell_type": "markdown",
   "metadata": {},
   "source": [
    "Instead of pulling out some fancy algorithm to do this automatically, just manually pick a few frame sets that are far apart:"
   ]
  },
  {
   "cell_type": "code",
   "execution_count": null,
   "metadata": {},
   "outputs": [],
   "source": [
    "# edit this list according to your own results!\n",
    "chosen_sets = [more_frames[0], more_frames[1], more_frames[3], more_frames[4], more_frames[5]]"
   ]
  },
  {
   "cell_type": "markdown",
   "metadata": {},
   "source": [
    "We then follow basically the same steps we did before with a single capture.\n",
    "\n",
    "Care must be taken for the fact that if *x* raw frames were captured, Orbuculum may return *x-1* or *x-2* parsed frames -- the last one or two can be missing.\n",
    "\n",
    "The next cells are a bit awkward because there's no easy way to call Orbuculum from a loop inside Jupyter, so you'll have to manually run the following few cells for each element of `chosen_sets`:"
   ]
  },
  {
   "cell_type": "code",
   "execution_count": null,
   "metadata": {},
   "outputs": [],
   "source": [
    "set_index = 0"
   ]
  },
  {
   "cell_type": "code",
   "execution_count": null,
   "metadata": {},
   "outputs": [],
   "source": [
    "# loop back up to here!\n",
    "frame_set = chosen_sets[set_index]"
   ]
  },
  {
   "cell_type": "code",
   "execution_count": null,
   "metadata": {},
   "outputs": [],
   "source": [
    "trace.write_raw_capture(frame_set, 'raw.bin')"
   ]
  },
  {
   "cell_type": "code",
   "execution_count": null,
   "metadata": {},
   "outputs": [],
   "source": [
    "%%bash\n",
    "/home/jpnewae/git/orbuculum/ofiles/orbuculum -t -f raw.bin -P -e\n",
    "wc hwevent"
   ]
  },
  {
   "cell_type": "code",
   "execution_count": null,
   "metadata": {},
   "outputs": [],
   "source": [
    "import os\n",
    "try:\n",
    "    os.remove('hwevent%d' % set_index)\n",
    "except:\n",
    "    pass\n",
    "os.rename('hwevent', 'hwevent%d' % set_index)"
   ]
  },
  {
   "cell_type": "code",
   "execution_count": null,
   "metadata": {},
   "outputs": [],
   "source": [
    "# increment the index then go back up and repeat until all frame sets are processed\n",
    "set_index += 1\n",
    "if set_index >= len(chosen_sets):\n",
    "    print(\"Done!\")\n",
    "else:\n",
    "    print(\"Go back up and repeat for set %d...\" % set_index)"
   ]
  },
  {
   "cell_type": "code",
   "execution_count": null,
   "metadata": {},
   "outputs": [],
   "source": [
    "addresses = []\n",
    "framez = []\n",
    "for i in range(len(chosen_sets)):\n",
    "    tfile = open('hwevent%d' % i, 'r')\n",
    "    numframes = 0\n",
    "    for l in tfile:\n",
    "        match = event_regex.search(l)\n",
    "        if match:\n",
    "            #print(\"Got %s\" % match.group(1))\n",
    "            addresses.append(int(match.group(1), 16))\n",
    "            numframes += 1\n",
    "        else:\n",
    "            print('\\t *** MISMATCH: %s' % l)\n",
    "    # This is where we have to account for Orbuculum possibly not returning all the frames we fed it:\n",
    "    framez.extend(chosen_sets[i][:numframes])\n",
    "    tfile.close()"
   ]
  },
  {
   "cell_type": "code",
   "execution_count": null,
   "metadata": {},
   "outputs": [],
   "source": [
    "# make sure we didn't screw up:\n",
    "assert len(addresses) == len(framez)"
   ]
  },
  {
   "cell_type": "markdown",
   "metadata": {},
   "source": [
    "From here on, we do almost exactly the same things we did when we had a single trace set:"
   ]
  },
  {
   "cell_type": "code",
   "execution_count": null,
   "metadata": {},
   "outputs": [],
   "source": [
    "found_functions = []\n",
    "for i, addy in enumerate(addresses):\n",
    "    found = False\n",
    "    for func in funcs:\n",
    "        if addy >= func[0] and addy < func[0] + func[1]:\n",
    "            #print('%08x: %s' % (addy, func[2]))\n",
    "            found = True\n",
    "            framez[i].append(func[2])\n",
    "            if func[2] not in found_functions:\n",
    "                found_functions.append(func[2])\n",
    "            break\n",
    "    if not found:\n",
    "        print(\"\\t\\t\\t*** couldn't find address %08x!\" % addy)"
   ]
  },
  {
   "cell_type": "code",
   "execution_count": null,
   "metadata": {},
   "outputs": [],
   "source": [
    "# which functions were sampled:\n",
    "found_functions"
   ]
  },
  {
   "cell_type": "markdown",
   "metadata": {},
   "source": [
    "Before we plot, it will be easier if we sort our frames by timestamp. Before we do that, let's add the base address to each frame, because that would be harder post-sorting, and we'll need this later:"
   ]
  },
  {
   "cell_type": "code",
   "execution_count": null,
   "metadata": {},
   "outputs": [],
   "source": [
    "# add the base address to each frame:\n",
    "for i, addy in enumerate(addresses):\n",
    "    framez[i].append(addy)"
   ]
  },
  {
   "cell_type": "code",
   "execution_count": null,
   "metadata": {},
   "outputs": [],
   "source": [
    "framez = sorted(framez, key=lambda x:x[0])"
   ]
  },
  {
   "cell_type": "code",
   "execution_count": null,
   "metadata": {},
   "outputs": [],
   "source": [
    "from bokeh.plotting import figure, show\n",
    "from bokeh.io import output_notebook\n",
    "from bokeh.resources import INLINE\n",
    "from bokeh.models import Span\n",
    "\n",
    "output_notebook(INLINE)\n",
    "q = figure(plot_width=1500, plot_height=700)\n",
    "\n",
    "xrange = range(len(powertrace.wave))\n",
    "q.line(xrange, powertrace.wave, line_color=\"black\")\n",
    "palette = Set1[9]"
   ]
  },
  {
   "cell_type": "code",
   "execution_count": null,
   "metadata": {},
   "outputs": [],
   "source": [
    "if scope.clock.adc_src == 'clkgen_x4' or scope.clock.adc_src == 'extclk_x4':\n",
    "    multiplier = 4\n",
    "else:\n",
    "    multiplier = 1"
   ]
  },
  {
   "cell_type": "code",
   "execution_count": null,
   "metadata": {},
   "outputs": [],
   "source": [
    "# add legend\n",
    "for i,f in enumerate(found_functions):\n",
    "    if i < len(palette):\n",
    "        q.rect(x=0 ,y=0, width=0.01, height=0.01, color=palette[i], alpha=0.3, legend_label=f, visible=False)"
   ]
  },
  {
   "cell_type": "code",
   "execution_count": null,
   "metadata": {},
   "outputs": [],
   "source": [
    "for i,f in enumerate(framez[:-1]):\n",
    "    if len(f) != 4:\n",
    "        pass\n",
    "    elif found_functions.index(f[2]) < len(palette):\n",
    "        q.quad(left=f[0]*multiplier, bottom=loy, right=framez[i+1][0]*multiplier-1, top=hiy, color=palette[found_functions.index(f[2])], alpha=0.4)\n",
    "    else:\n",
    "        print(\"Running out of colors! Choose a different palette?\")"
   ]
  },
  {
   "cell_type": "code",
   "execution_count": null,
   "metadata": {},
   "outputs": [],
   "source": [
    "q.legend.label_text_font_size = \"18pt\""
   ]
  },
  {
   "cell_type": "code",
   "execution_count": null,
   "metadata": {},
   "outputs": [],
   "source": [
    "show(q)"
   ]
  },
  {
   "cell_type": "markdown",
   "metadata": {},
   "source": [
    "Pretty isn't it? Make sure you zoom in to appreciate the finer granularity!"
   ]
  },
  {
   "cell_type": "markdown",
   "metadata": {},
   "source": [
    "## One more visualization:\n",
    "Instead of mapping functions to colours, let's map the sampled address space to a larger color palette. This gives a different visualization of when code is repeated."
   ]
  },
  {
   "cell_type": "code",
   "execution_count": null,
   "metadata": {},
   "outputs": [],
   "source": [
    "import numpy as np\n",
    "from bokeh.palettes import Plasma256\n",
    "palette = Plasma256"
   ]
  },
  {
   "cell_type": "code",
   "execution_count": null,
   "metadata": {},
   "outputs": [],
   "source": [
    "def map_color(addy):\n",
    "    if addy < min(addresses) or addy > max(addresses):\n",
    "        raise ValueError(\"Address out of range\")\n",
    "    return int(np.interp(addy, [min(addresses), max(addresses)], [0, len(palette)-1]))"
   ]
  },
  {
   "cell_type": "code",
   "execution_count": null,
   "metadata": {},
   "outputs": [],
   "source": [
    "from bokeh.plotting import figure, show\n",
    "from bokeh.io import output_notebook\n",
    "from bokeh.resources import INLINE\n",
    "\n",
    "output_notebook(INLINE)\n",
    "r = figure(plot_width=1500, plot_height=700)\n",
    "\n",
    "xrange = range(len(powertrace.wave))\n",
    "r.line(xrange, powertrace.wave, line_color=\"black\")"
   ]
  },
  {
   "cell_type": "code",
   "execution_count": null,
   "metadata": {},
   "outputs": [],
   "source": [
    "for i,f in enumerate(framez[:-1]):\n",
    "    if len(f) > 2 and found_functions.index(f[2]) < 9:\n",
    "        r.quad(left=f[0]*multiplier, bottom=loy, right=framez[i+1][0]*multiplier-1, top=hiy, color=Plasma256[map_color(f[-1])], alpha=0.4)"
   ]
  },
  {
   "cell_type": "code",
   "execution_count": null,
   "metadata": {},
   "outputs": [],
   "source": [
    "show(r)"
   ]
  },
  {
   "cell_type": "code",
   "execution_count": null,
   "metadata": {},
   "outputs": [],
   "source": []
  }
 ],
 "metadata": {
  "kernelspec": {
   "display_name": "Python 3 (ipykernel)",
   "language": "python",
   "name": "python3"
  },
  "language_info": {
   "codemirror_mode": {
    "name": "ipython",
    "version": 3
   },
   "file_extension": ".py",
   "mimetype": "text/x-python",
   "name": "python",
   "nbconvert_exporter": "python",
   "pygments_lexer": "ipython3",
   "version": "3.7.4"
  }
 },
 "nbformat": 4,
 "nbformat_minor": 4
}
