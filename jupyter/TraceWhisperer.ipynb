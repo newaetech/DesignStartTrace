{
 "cells": [
  {
   "cell_type": "markdown",
   "metadata": {},
   "source": [
    "# Introduction to Debug Tracing for Side-Channel Analysis\n",
    "\n",
    "Setup depends on the trace platform, target platform, and trace interface, so make the correct choices below.\n",
    "\n",
    "In addition to ChipWhisperer capture platform (pro or lite), you need either:\n",
    "* CW305\n",
    "* CW610 (PhyWhisperer); in this case you also need one of:\n",
    "    * CW308 multi-target board with the MK82F target\n",
    "    * CW308 with an STM32 target\n",
    "    * CWLITEARM\n",
    "\n",
    "This notebook tries to highlight some of the many things that can be done with trace, and so it is not meant to be run \"straight through\". Read the instructions carefully!"
   ]
  },
  {
   "cell_type": "code",
   "execution_count": null,
   "metadata": {},
   "outputs": [],
   "source": [
    "TRACE_PLATFORM = 'CW610' # AKA PhyWhisperer\n",
    "#TRACE_PLATFORM = 'CW305' # CW305 FPGA target board\n",
    "\n",
    "#PLATFORM = 'CW305'\n",
    "#PLATFORM = 'CWLITEARM'\n",
    "#PLATFORM = 'CW308_STM32F3'\n",
    "PLATFORM = 'CW308_K82F'\n",
    "\n",
    "#TRACE_INTERFACE = 'parallel'\n",
    "TRACE_INTERFACE = 'swo'"
   ]
  },
  {
   "cell_type": "code",
   "execution_count": null,
   "metadata": {},
   "outputs": [],
   "source": [
    "import chipwhisperer as cw\n",
    "from chipwhisperer.capture.trace.TraceWhisperer import TraceWhisperer"
   ]
  },
  {
   "cell_type": "code",
   "execution_count": null,
   "metadata": {},
   "outputs": [],
   "source": [
    "##### TODO: point to standard bitfile and defines ########\n",
    "defines = ['../hardware/CW305_DesignStart/hdl/defines_trace.v', '../hardware/phywhisperer/software/phywhisperer/firmware/defines_pw.v']"
   ]
  },
  {
   "cell_type": "code",
   "execution_count": null,
   "metadata": {},
   "outputs": [],
   "source": [
    "!ls -l ../hardware/tracewhisperer/vivado/tracewhisperer.runs/impl_no_ilas/*bit"
   ]
  },
  {
   "cell_type": "code",
   "execution_count": null,
   "metadata": {},
   "outputs": [],
   "source": [
    "# platform setup:\n",
    "if TRACE_PLATFORM == 'CW610':\n",
    "    SCOPETYPE = 'OPENADC'\n",
    "    %run \"Helper_Scripts/Setup_Generic.ipynb\"\n",
    "    trace = TraceWhisperer(target, scope, force_bitfile=False, defines_files=defines)\n",
    "    #trace = TraceWhisperer(target, scope, force_bitfile=True, bs='../hardware/tracewhisperer/vivado/tracewhisperer.runs/impl_no_ilas/tracewhisperer_top.bit', defines_files=defines)\n",
    "    # on this platform, minimum trace frequency is 10 MHz, so minimum target frequency is twice that; increase baud rate accordingly:\n",
    "    #scope.clock.clkgen_freq = 20e6\n",
    "    #target.baud = 104000\n",
    "    scope.clock.adc_src = \"clkgen_x4\"\n",
    "    if PLATFORM == 'CWLITEARM':\n",
    "        scope.adc.samples = 24400\n",
    "    else:\n",
    "        scope.adc.samples = 30000\n",
    "    scope.gain.setGain(20)\n",
    "\n",
    "else:\n",
    "    %run \"Helper_Scripts/Setup_CW305_DST.ipynb\"\n",
    "    scope.adc.samples = 35000\n",
    "    trace = TraceWhisperer(target, scope, defines_files=defines)"
   ]
  },
  {
   "cell_type": "code",
   "execution_count": null,
   "metadata": {},
   "outputs": [],
   "source": [
    "trace"
   ]
  },
  {
   "cell_type": "code",
   "execution_count": null,
   "metadata": {},
   "outputs": [],
   "source": [
    "trace.target_registers"
   ]
  },
  {
   "cell_type": "code",
   "execution_count": null,
   "metadata": {},
   "outputs": [],
   "source": [
    "type(trace.target_registers.DWT_CTRL)"
   ]
  },
  {
   "cell_type": "code",
   "execution_count": null,
   "metadata": {},
   "outputs": [],
   "source": [
    "trace.target_registers.DWT_CTRL = '40000021'"
   ]
  },
  {
   "cell_type": "code",
   "execution_count": null,
   "metadata": {},
   "outputs": [],
   "source": [
    "trace.target_registers.set('DWT_CTRL', '4000007f')"
   ]
  },
  {
   "cell_type": "code",
   "execution_count": null,
   "metadata": {},
   "outputs": [],
   "source": [
    "hex(trace.target_registers.DWT_CTRL)"
   ]
  },
  {
   "cell_type": "code",
   "execution_count": null,
   "metadata": {},
   "outputs": [],
   "source": [
    "trace.target_registers.regs['DWT_CTRL']"
   ]
  },
  {
   "cell_type": "code",
   "execution_count": null,
   "metadata": {},
   "outputs": [],
   "source": [
    "'%02x' % 4"
   ]
  },
  {
   "cell_type": "code",
   "execution_count": null,
   "metadata": {},
   "outputs": [],
   "source": [
    "trace.ARM_debug_registers.DWT_CTRL"
   ]
  },
  {
   "cell_type": "code",
   "execution_count": null,
   "metadata": {},
   "outputs": [],
   "source": [
    "trace.fpga_write(trace.REG_FE_CLOCK_SEL, [0])"
   ]
  },
  {
   "cell_type": "code",
   "execution_count": null,
   "metadata": {},
   "outputs": [],
   "source": [
    "#%run \"Helper_Scripts/Setup_Generic.ipynb\"\n",
    "#trace = TraceWhisperer(target, scope, force_bitfile=False, defines_files=defines)"
   ]
  },
  {
   "cell_type": "code",
   "execution_count": null,
   "metadata": {},
   "outputs": [],
   "source": [
    "trace.fpga_buildtime"
   ]
  },
  {
   "cell_type": "code",
   "execution_count": null,
   "metadata": {},
   "outputs": [],
   "source": [
    "trace"
   ]
  },
  {
   "cell_type": "code",
   "execution_count": null,
   "metadata": {},
   "outputs": [],
   "source": [
    "trace.fe_clock_alive"
   ]
  },
  {
   "cell_type": "code",
   "execution_count": null,
   "metadata": {},
   "outputs": [],
   "source": [
    "trace.fe_freq"
   ]
  },
  {
   "cell_type": "code",
   "execution_count": null,
   "metadata": {},
   "outputs": [],
   "source": [
    "trace.trigger_freq = 7384586*4"
   ]
  },
  {
   "cell_type": "code",
   "execution_count": null,
   "metadata": {},
   "outputs": [],
   "source": [
    "scope.clock.clkgen_freq"
   ]
  },
  {
   "cell_type": "code",
   "execution_count": null,
   "metadata": {},
   "outputs": [],
   "source": [
    "scope.clock"
   ]
  },
  {
   "cell_type": "code",
   "execution_count": null,
   "metadata": {},
   "outputs": [],
   "source": [
    "# TODO: set gain appropriately for each target/platform\n",
    "if TRACE_PLATFORM == 'CW305':\n",
    "    scope.gain.setGain(30)\n",
    "elif PLATFORM == 'CW308_K82F':\n",
    "    scope.gain.setGain(20)\n",
    "elif PLATFORM == 'CW308_STM32F3':\n",
    "    scope.gain.setGain(25)\n",
    "elif PLATFORM == 'CWLITEARM':\n",
    "    scope.gain.setGain(25)"
   ]
  },
  {
   "cell_type": "markdown",
   "metadata": {},
   "source": [
    "### Program STM32 target:\n",
    "\n",
    "If you're using the K82 target, you'll need an external programmer."
   ]
  },
  {
   "cell_type": "code",
   "execution_count": null,
   "metadata": {},
   "outputs": [],
   "source": [
    "if (PLATFORM == 'CW308_STM32F3') or (PLATFORM == 'CWLITEARM'):\n",
    "    fw_path = '../../cw_dev3/hardware/victims/firmware/simpleserial-trace/simpleserial-trace-CW308_STM32F3.hex'\n",
    "    prog = cw.programmers.STM32FProgrammer\n",
    "    cw.program_target(scope, prog, fw_path)"
   ]
  },
  {
   "cell_type": "code",
   "execution_count": null,
   "metadata": {},
   "outputs": [],
   "source": [
    "# required after programming some targets:\n",
    "def target_reset():\n",
    "    if TRACE_PLATFORM == 'CW610':\n",
    "        scope.io.nrst = 'low'\n",
    "        time.sleep(0.05)\n",
    "        scope.io.nrst = 'high'\n",
    "        time.sleep(0.05)"
   ]
  },
  {
   "cell_type": "code",
   "execution_count": null,
   "metadata": {},
   "outputs": [],
   "source": [
    "target_reset()"
   ]
  },
  {
   "cell_type": "code",
   "execution_count": null,
   "metadata": {},
   "outputs": [],
   "source": [
    "# target info and buildtimes:\n",
    "print(trace.get_target_name())\n",
    "print(trace.get_fw_buildtime())\n",
    "print(trace.get_fpga_buildtime())"
   ]
  },
  {
   "cell_type": "code",
   "execution_count": null,
   "metadata": {},
   "outputs": [],
   "source": [
    "scope.clock"
   ]
  },
  {
   "cell_type": "code",
   "execution_count": null,
   "metadata": {},
   "outputs": [],
   "source": [
    "trace"
   ]
  },
  {
   "cell_type": "code",
   "execution_count": null,
   "metadata": {},
   "outputs": [],
   "source": [
    "trace.fe_clock_alive"
   ]
  },
  {
   "cell_type": "markdown",
   "metadata": {},
   "source": [
    "## Set trace or SWO operation mode:\n",
    "\n",
    "Trace mode operation is pretty straightforward. SWO is a bit more complicated to set up - mostly because there are more knobs to tune.\n",
    "\n",
    "First, Arm processors which support JTAG and SWD come out of reset in JTAG mode. In order to get trace data out of the SWO pin, we need to switch it over to SWD mode.\n",
    "\n",
    "The `jtag_to_swd()` call below runs a special sequence on the TMS and TCK pins to do this switchover. However, different processors (such as the STM32) may have *additional* requirements to enable the SWO pin. The `simpleserial-trace` firmware handles this for the STM32. Other targets may have their own requirements. One sure-fire way to get a target into SWD mode is to use an external debugger. In that case, do not call `jtag_to_swd()`, as this could result in contention on the TMS/TCK pins.\n",
    "\n",
    "Additionally, there are lots of knobs in setting the SWO bit rate. Sensible default settings are used here, but if you want to modify them, you'll first have to understand what the knobs do. The variables at play are:\n",
    "- the target clock\n",
    "- the TPI.ACPR register, which defines the number of clock cycles per SWO bit\n",
    "- the CW610's internal UART, which runs at 192 MHz and has a configurable number of clock cycles per SWO bit.\n",
    "\n",
    "Look at TraceWhisperer.py's `set_trace_mode()` to see how it's all done. One thing to understand is that the target clock is determined by the `swo_div` parameter."
   ]
  },
  {
   "cell_type": "code",
   "execution_count": null,
   "metadata": {},
   "outputs": [],
   "source": [
    "# NEW target-clocked SWO setting. This assumes trigger_clock = 2x target clock.\n",
    "\n",
    "# inputs:\n",
    "swo_div = 8\n",
    "acpr = 1\n",
    "new_target_clock = 10e6\n",
    "\n",
    "trace.swo_mode = True\n",
    "# Next we set the target clock and update CW baud rate accordingly:\n",
    "#new_target_clock = int(target._uart_clock / (swo_div * (acpr+1)))\n",
    "scope.clock.clkgen_freq = new_target_clock\n",
    "target.baud = int(trace._base_baud * (new_target_clock/trace._base_target_clock))\n",
    "\n",
    "# K82 needs this after changing clocks:\n",
    "target_reset()"
   ]
  },
  {
   "cell_type": "code",
   "execution_count": null,
   "metadata": {},
   "outputs": [],
   "source": [
    "trace.set_reg('TPI_SPPR', '00000002')\n",
    "trace.set_reg('TPI_ACPR', '%08x' % acpr)\n",
    "trace.fpga_write(trace.REG_SWO_BITRATE_DIV, [swo_div-1]) # not a typo: hardware requires -1; doing this is easier than fixing the hardware\n",
    "trace.fpga_write(trace.REG_SWO_ENABLE, [1])"
   ]
  },
  {
   "cell_type": "code",
   "execution_count": null,
   "metadata": {},
   "outputs": [],
   "source": [
    "trace.jtag_to_swd()"
   ]
  },
  {
   "cell_type": "code",
   "execution_count": null,
   "metadata": {},
   "outputs": [],
   "source": [
    "trace"
   ]
  },
  {
   "cell_type": "code",
   "execution_count": null,
   "metadata": {},
   "outputs": [],
   "source": [
    "#trace.set_trace_mode('trace')"
   ]
  },
  {
   "cell_type": "code",
   "execution_count": null,
   "metadata": {},
   "outputs": [],
   "source": [
    "if TRACE_INTERFACE == 'parallel':\n",
    "    if TRACE_PLATFORM == 'CW610':\n",
    "        print(\"*** Don't forget the jumper cables from the target's trace pins to the PhyWhisperer D[4:7] and CK pins ***\")\n",
    "    trace.set_trace_mode('trace')\n",
    "    if TRACE_PLATFORM == 'CW610': # here the target clock must be at least 20 MHz, otherwise the CW610's PLL may fail to lock:\n",
    "        scope.clock.clkgen_freq = 20e6\n",
    "        target.baud = 104000\n",
    "else:\n",
    "    print(\"*** Don't forget the jumper cables from the target's TMS/TCK/TDO pins to the PhyWhisperer D0/D1/D2 pins ***\")\n",
    "    trace.set_trace_mode('swo', swo_div=8, acpr=0)\n",
    "    trace.jtag_to_swd()\n",
    "\n",
    "trace.check_clocks()"
   ]
  },
  {
   "cell_type": "code",
   "execution_count": null,
   "metadata": {},
   "outputs": [],
   "source": [
    "scope.clock.reset_adc()\n",
    "assert (scope.clock.adc_locked), \"ADC failed to lock\""
   ]
  },
  {
   "cell_type": "markdown",
   "metadata": {},
   "source": [
    "#### Check that the target is alive.\n",
    "If `get_fw_buildtime()` produces no output, the target may have become unresponsive after the above changes; it may simply require a reset."
   ]
  },
  {
   "cell_type": "code",
   "execution_count": null,
   "metadata": {},
   "outputs": [],
   "source": [
    "print(trace.get_fw_buildtime())"
   ]
  },
  {
   "cell_type": "code",
   "execution_count": null,
   "metadata": {},
   "outputs": [],
   "source": [
    "#trace.jtag_to_swd()\n",
    "#trace.set_trace_mode('swo', swo_div=8, acpr=0)\n",
    "\n",
    "# reset if needed\n",
    "#target_reset()"
   ]
  },
  {
   "cell_type": "markdown",
   "metadata": {},
   "source": [
    "### Disable sync frames for SWO:\n",
    "\n",
    "By default, periodic sync frames are emitted every 16 million clock cycles. If you're bringing up an SWO target for the first time, this is helpful to confirm that the link is \"alive\".\n",
    "However these sync frames will delay the trace events that we care about if they occur during our trace capture, so it's best to disable them.\n",
    "\n",
    "Sync frames on the parallel trace port cannot be disabled."
   ]
  },
  {
   "cell_type": "code",
   "execution_count": null,
   "metadata": {},
   "outputs": [],
   "source": [
    "trace.ARM_debug_registers._set_reg('DWT_CTRL', '40000021')"
   ]
  },
  {
   "cell_type": "code",
   "execution_count": null,
   "metadata": {},
   "outputs": [],
   "source": [
    "trace.ARM_debug_registers"
   ]
  },
  {
   "cell_type": "code",
   "execution_count": null,
   "metadata": {},
   "outputs": [],
   "source": [
    "[None]*10"
   ]
  },
  {
   "cell_type": "code",
   "execution_count": null,
   "metadata": {},
   "outputs": [],
   "source": [
    "#trace.set_reg('TPI_SPPR', '00000002')"
   ]
  },
  {
   "cell_type": "code",
   "execution_count": null,
   "metadata": {},
   "outputs": [],
   "source": [
    "trace.get_reg('TPI_SPPR')"
   ]
  },
  {
   "cell_type": "markdown",
   "metadata": {},
   "source": [
    "### Trigger trace capture from target FW:"
   ]
  },
  {
   "cell_type": "code",
   "execution_count": null,
   "metadata": {},
   "outputs": [],
   "source": [
    "trace.use_soft_trigger()"
   ]
  },
  {
   "cell_type": "markdown",
   "metadata": {},
   "source": [
    "### What to capture:\n",
    "There are two trace capture modes:\n",
    "1. Raw mode captures the complete raw trace data.\n",
    "2. Non-raw mode captures only matching rule IDs. To use this, set up some pattern match rules (see below); only the ID of the matching rule will be captured."
   ]
  },
  {
   "cell_type": "code",
   "execution_count": null,
   "metadata": {},
   "outputs": [],
   "source": [
    "trace.fpga_write(trace.REG_CAPTURE_RAW, [1])"
   ]
  },
  {
   "cell_type": "markdown",
   "metadata": {},
   "source": [
    "### Alternatively, set a pattern matching rule and capture only rule match IDs:"
   ]
  },
  {
   "cell_type": "code",
   "execution_count": null,
   "metadata": {},
   "outputs": [],
   "source": [
    "trace.fpga_write(trace.REG_CAPTURE_RAW, [0])\n",
    "\n",
    "# match on any PC match (isync) trace packet:\n",
    "trace.set_pattern_match(0, [3, 8, 32, 0, 0, 0, 0, 0], [255, 255, 255, 0, 0, 0, 0, 0])\n",
    "\n",
    "# match on anything:\n",
    "#trace.set_pattern_match(0, [0, 0, 0, 0, 0, 0, 0, 0], [0, 0, 0, 0, 0, 0, 0, 0])\n",
    "\n",
    "# enable matching rule:\n",
    "trace.fpga_write(trace.REG_PATTERN_ENABLE, [1])"
   ]
  },
  {
   "cell_type": "markdown",
   "metadata": {},
   "source": [
    "### Optionally, a pattern matching rule can be used to trigger trace capture (instead of the target FW soft trigger):\n",
    "\n",
    "Be aware that this is not a stable trigger, expect jitter up to 6 clock cycles. See the DesignStartTrace [README](https://github.com/newaetech/DesignStartTrace/blob/master/README.md) for more information on jitter."
   ]
  },
  {
   "cell_type": "code",
   "execution_count": null,
   "metadata": {},
   "outputs": [],
   "source": [
    "trace.use_trace_trigger(rule=0)"
   ]
  },
  {
   "cell_type": "markdown",
   "metadata": {},
   "source": [
    "### How long to capture for:\n",
    "By default, trace data is captured while the target's trigger line is high. This is probably what you want to do (unless your target doesn't drive the trigger line, e.g. you're using a trace pattern match as the trigger).\n",
    "\n",
    "Alternatively, you can manually specify how many cycles or events the capture should last."
   ]
  },
  {
   "cell_type": "code",
   "execution_count": null,
   "metadata": {},
   "outputs": [],
   "source": [
    "trace.set_capture_mode('while_trig') # capture as long as the target trigger pin is high\n",
    "#trace.set_capture_mode('count_cycles', 24000) # capture for 24000 clock cycles\n",
    "#trace.set_capture_mode('count_writes', 50000) # capture 500 events (combination of raw trace bytes and timestamps)"
   ]
  },
  {
   "cell_type": "markdown",
   "metadata": {},
   "source": [
    "### Set PC addresses to match on:\n",
    "Let's use the start of the `SubBytes()` and `MixColumns()` functions.\n",
    "\n",
    "This will set the target's `DWT.COMP0`, `DWT.COMP1`, and `ETM.TEEVR` registers."
   ]
  },
  {
   "cell_type": "code",
   "execution_count": null,
   "metadata": {},
   "outputs": [],
   "source": [
    "if TRACE_PLATFORM == 'CW305':\n",
    "    trace.set_isync_matches(addr0=0x3bc0, addr1=0x3aa8, match='both')\n",
    "elif PLATFORM == 'CWLITEARM' or PLATFORM == 'CW308_STM32F3':\n",
    "    trace.set_isync_matches(addr0=0x08001728, addr1=0x08001736, match='both')\n",
    "elif PLATFORM == 'CW308_K82F':\n",
    "    #trace.set_isync_matches(addr0=0x1d70, addr1=0x1d7c, match='both')\n",
    "    trace.set_isync_matches(addr0=0x3e84, addr1=0x3eb0, match='both')"
   ]
  },
  {
   "cell_type": "code",
   "execution_count": null,
   "metadata": {},
   "outputs": [],
   "source": [
    "trace.get_reg('DWT_COMP0'), trace.get_reg('DWT_COMP1')"
   ]
  },
  {
   "cell_type": "markdown",
   "metadata": {},
   "source": [
    "### Enable or disable periodic PC sampling:"
   ]
  },
  {
   "cell_type": "code",
   "execution_count": null,
   "metadata": {},
   "outputs": [],
   "source": [
    "trace.set_periodic_pc_sampling(enable=0)"
   ]
  },
  {
   "cell_type": "markdown",
   "metadata": {},
   "source": [
    "# Capture power and debug trace:"
   ]
  },
  {
   "cell_type": "code",
   "execution_count": null,
   "metadata": {},
   "outputs": [],
   "source": [
    "if TRACE_PLATFORM == 'CW610':\n",
    "    print(\"*** Don't forget the jumper cable from CW308 GPIO4/TRIG pin to PhyWhisperer PC pin on side connector! ***\")"
   ]
  },
  {
   "cell_type": "code",
   "execution_count": null,
   "metadata": {},
   "outputs": [],
   "source": [
    "if TRACE_PLATFORM == 'CW610':\n",
    "    sstarget = target\n",
    "else:\n",
    "    sstarget = trace._ss"
   ]
  },
  {
   "cell_type": "code",
   "execution_count": null,
   "metadata": {},
   "outputs": [],
   "source": [
    "# force resynchronization, ensure we are sync'd:\n",
    "if TRACE_INTERFACE == 'parallel':\n",
    "    trace.resync()"
   ]
  },
  {
   "cell_type": "code",
   "execution_count": null,
   "metadata": {},
   "outputs": [],
   "source": [
    "trace"
   ]
  },
  {
   "cell_type": "code",
   "execution_count": null,
   "metadata": {},
   "outputs": [],
   "source": [
    "trace.fpga_read(trace.REG_LED_SELECT, 1)[0]"
   ]
  },
  {
   "cell_type": "code",
   "execution_count": null,
   "metadata": {},
   "outputs": [],
   "source": [
    "trace.fpga_read(trace.REG_FE_CLOCK_SEL, 1)[0]"
   ]
  },
  {
   "cell_type": "code",
   "execution_count": null,
   "metadata": {},
   "outputs": [],
   "source": [
    "trace.fpga_write(trace.REG_FE_CLOCK_SEL, [0])"
   ]
  },
  {
   "cell_type": "code",
   "execution_count": null,
   "metadata": {},
   "outputs": [],
   "source": [
    "trace.check_clocks()"
   ]
  },
  {
   "cell_type": "code",
   "execution_count": null,
   "metadata": {},
   "outputs": [],
   "source": [
    "trace.fpga_write(trace.REG_LED_SELECT, [1])"
   ]
  },
  {
   "cell_type": "code",
   "execution_count": null,
   "metadata": {},
   "outputs": [],
   "source": [
    "# arm trace sniffer:\n",
    "trace.arm_trace()"
   ]
  },
  {
   "cell_type": "code",
   "execution_count": null,
   "metadata": {},
   "outputs": [],
   "source": [
    "trace.fpga_read(trace.REG_STAT, 1)[0]"
   ]
  },
  {
   "cell_type": "code",
   "execution_count": null,
   "metadata": {},
   "outputs": [],
   "source": [
    "scope.adc.samples = 24400"
   ]
  },
  {
   "cell_type": "code",
   "execution_count": null,
   "metadata": {},
   "outputs": [],
   "source": [
    "from tqdm.notebook import tnrange\n",
    "import numpy as np\n",
    "\n",
    "ktp = cw.ktp.Basic()\n",
    "\n",
    "powertraces = []\n",
    "num_traces = 1\n",
    "\n",
    "for i in tnrange(num_traces, desc='Capturing traces'):\n",
    "    key, text = ktp.next()  # manual creation of a key, text pair can be substituted here\n",
    "    powertrace = cw.capture_trace(scope, sstarget, text, key)\n",
    "    if powertrace is None:\n",
    "        continue\n",
    "    powertraces.append(powertrace)\n",
    "\n",
    "#Convert traces to numpy arrays\n",
    "trace_array = np.asarray([trace.wave for trace in powertraces])  # if you prefer to work with numpy array for number crunching\n",
    "textin_array = np.asarray([trace.textin for trace in powertraces])\n",
    "known_keys = np.asarray([trace.key for trace in powertraces])  # for fixed key, these keys are all the same"
   ]
  },
  {
   "cell_type": "markdown",
   "metadata": {},
   "source": [
    "### Read the raw trace data:"
   ]
  },
  {
   "cell_type": "code",
   "execution_count": null,
   "metadata": {},
   "outputs": [],
   "source": [
    "raw = trace.read_capture_data()\n",
    "len(raw)"
   ]
  },
  {
   "cell_type": "code",
   "execution_count": null,
   "metadata": {},
   "outputs": [],
   "source": [
    "trace.fpga_read(trace.REG_STAT, 1)[0]"
   ]
  },
  {
   "cell_type": "code",
   "execution_count": null,
   "metadata": {},
   "outputs": [],
   "source": [
    "raw[:20]"
   ]
  },
  {
   "cell_type": "code",
   "execution_count": null,
   "metadata": {},
   "outputs": [],
   "source": [
    "trace"
   ]
  },
  {
   "cell_type": "code",
   "execution_count": null,
   "metadata": {},
   "outputs": [],
   "source": [
    "trace.errors = None"
   ]
  },
  {
   "cell_type": "code",
   "execution_count": null,
   "metadata": {},
   "outputs": [],
   "source": [
    "trace.check_clocks()"
   ]
  },
  {
   "cell_type": "markdown",
   "metadata": {},
   "source": [
    "### If we captured raw data, parse out raw 'frames' from it:\n",
    "This will *not* work if you used `trace.fpga_write(trace.REG_CAPTURE_RAW, [0])`!\n",
    "\n",
    "When using the parallel trace port, the sync frames are used as frame delimiters."
   ]
  },
  {
   "cell_type": "code",
   "execution_count": null,
   "metadata": {},
   "outputs": [],
   "source": [
    "if TRACE_INTERFACE == 'parallel':\n",
    "    frames = trace.get_raw_trace_packets(raw, removesyncs=True, verbose=True)\n",
    "else:\n",
    "    frames = trace.get_raw_trace_packets(raw, removesyncs=False, verbose=True)"
   ]
  },
  {
   "cell_type": "markdown",
   "metadata": {},
   "source": [
    "#### Each entry of `frames` contains a timestamp (# of clock cycles elapsed since trigger) and a payload:\n",
    "This only works in parallel trace mode because we can use the sync frames as frame delimiters. But fear not, Orbuculum can parse the trace data either way (a few cells down)."
   ]
  },
  {
   "cell_type": "code",
   "execution_count": null,
   "metadata": {},
   "outputs": [],
   "source": [
    "frames = trace.get_raw_trace_packets(raw, removesyncs=True, verbose=True)"
   ]
  },
  {
   "cell_type": "code",
   "execution_count": null,
   "metadata": {},
   "outputs": [],
   "source": [
    "if TRACE_INTERFACE == 'parallel':\n",
    "    frames[:3]"
   ]
  },
  {
   "cell_type": "markdown",
   "metadata": {},
   "source": [
    "### If we captured matching rule events, this will list timestamped matching rule IDs:\n",
    "This will *not* work if you used `trace.fpga_write(trace.REG_CAPTURE_RAW, [1])`!"
   ]
  },
  {
   "cell_type": "code",
   "execution_count": null,
   "metadata": {},
   "outputs": [],
   "source": [
    "times = trace.get_rule_match_times(raw, rawtimes=False, verbose=True)"
   ]
  },
  {
   "cell_type": "code",
   "execution_count": null,
   "metadata": {},
   "outputs": [],
   "source": [
    "len(times)"
   ]
  },
  {
   "cell_type": "markdown",
   "metadata": {},
   "source": [
    "# Parse the raw trace data with Orbuculum:\n",
    "For the case where `REG_CAPTURE_RAW = 1` only.\n",
    "\n",
    "Orbuculum allows you to make sense out of the cryptic TPIU-encoded trace data. It can be installed from: https://github.com/orbcode/orbuculum"
   ]
  },
  {
   "cell_type": "code",
   "execution_count": null,
   "metadata": {},
   "outputs": [],
   "source": [
    "# first, write out the raw trace data to a file:\n",
    "trace.write_raw_capture(frames, 'raw.bin')"
   ]
  },
  {
   "cell_type": "code",
   "execution_count": null,
   "metadata": {},
   "outputs": [],
   "source": [
    "# change the path to where the orbuculum executable resides on your own system:"
   ]
  },
  {
   "cell_type": "code",
   "execution_count": null,
   "metadata": {},
   "outputs": [],
   "source": [
    "%%bash\n",
    "/home/jpnewae/git/orbuculum/ofiles/orbuculum -t -f raw.bin -P -e\n",
    "cat hwevent"
   ]
  },
  {
   "cell_type": "code",
   "execution_count": null,
   "metadata": {},
   "outputs": [],
   "source": [
    "trace"
   ]
  },
  {
   "cell_type": "code",
   "execution_count": null,
   "metadata": {},
   "outputs": [],
   "source": [
    "trace.swo_divv = 10"
   ]
  },
  {
   "cell_type": "code",
   "execution_count": null,
   "metadata": {},
   "outputs": [],
   "source": [
    "8*2.5"
   ]
  },
  {
   "cell_type": "code",
   "execution_count": null,
   "metadata": {},
   "outputs": [],
   "source": [
    "def mul_data(mul):\n",
    "    muldiv2 = int(mul/2)\n",
    "    lo = muldiv2\n",
    "    if mul%2:\n",
    "        hi = lo+1\n",
    "    else:\n",
    "        hi = lo\n",
    "    if hi >= 2**6:\n",
    "        raise ValueError(\"Internal error: calculated hi/lo value exceeding range\")\n",
    "    raw = lo + (hi<<6) + 0x1000\n",
    "    return(hex(raw))\n"
   ]
  },
  {
   "cell_type": "code",
   "execution_count": null,
   "metadata": {},
   "outputs": [],
   "source": [
    "trace.mmcm.get_main_div(), trace.mmcm.get_sec_div(), trace.mmcm.get_mul()"
   ]
  },
  {
   "cell_type": "code",
   "execution_count": null,
   "metadata": {},
   "outputs": [],
   "source": [
    "scope.clock.clkgen_freq"
   ]
  },
  {
   "cell_type": "code",
   "execution_count": null,
   "metadata": {},
   "outputs": [],
   "source": [
    "trace.trigger_freq"
   ]
  },
  {
   "cell_type": "code",
   "execution_count": null,
   "metadata": {},
   "outputs": [],
   "source": [
    "trace.trigger_freq = 100e6"
   ]
  },
  {
   "cell_type": "code",
   "execution_count": null,
   "metadata": {},
   "outputs": [],
   "source": [
    "trace.check_clocks()"
   ]
  },
  {
   "cell_type": "code",
   "execution_count": null,
   "metadata": {},
   "outputs": [],
   "source": [
    "trace.mmcm.set_sec_div(49)"
   ]
  },
  {
   "cell_type": "code",
   "execution_count": null,
   "metadata": {},
   "outputs": [],
   "source": [
    "trace.mmcm.set_main_div(1)"
   ]
  },
  {
   "cell_type": "code",
   "execution_count": null,
   "metadata": {},
   "outputs": [],
   "source": [
    "mul_data(46), mul_data(48)"
   ]
  },
  {
   "cell_type": "code",
   "execution_count": null,
   "metadata": {},
   "outputs": [],
   "source": [
    "trace.mmcm.set_mul(48)"
   ]
  },
  {
   "cell_type": "code",
   "execution_count": null,
   "metadata": {},
   "outputs": [],
   "source": [
    "target.baud"
   ]
  },
  {
   "cell_type": "code",
   "execution_count": null,
   "metadata": {},
   "outputs": [],
   "source": [
    "trace.get_reg('TPI_ACPR')"
   ]
  },
  {
   "cell_type": "code",
   "execution_count": null,
   "metadata": {},
   "outputs": [],
   "source": [
    "trace.check_clocks()"
   ]
  },
  {
   "cell_type": "code",
   "execution_count": null,
   "metadata": {},
   "outputs": [],
   "source": [
    "trace.fpga_read(trace.REG_MMCM_LOCKED, 1)[0]"
   ]
  },
  {
   "cell_type": "code",
   "execution_count": null,
   "metadata": {},
   "outputs": [],
   "source": [
    "scope.clock"
   ]
  },
  {
   "cell_type": "markdown",
   "metadata": {},
   "source": [
    "Refer to Orbuculum documentation for more information, but for the example shown here you'll get two types of entries out of Orbuculum:\n",
    "1. Starts with '2': periodic PC sample; last field is the PC value\n",
    "2. Starts with '8': Isync match; last field is the PC value\n",
    "\n",
    "The middle field is the timestamp inferred by Orbuculum, which is inaccurate here since TraceWhisperer strips out most of the sync frames for storage efficiency and records its own timestamps instead."
   ]
  },
  {
   "cell_type": "markdown",
   "metadata": {},
   "source": [
    "# Plotting Example\n",
    "For the code below, go back above and re-run a trace capture with non-raw capture mode, using one or two PC addresses that are of interest to you.\n",
    "Skip over the Orbuculum cells since we aren't capturing raw trace packets.\n",
    "\n",
    "The default PC match values, for the target executable in the repository, are the start of the `SubBytes()` and `MixColumns()` functions.\n",
    "\n",
    "The code below overlays black vertical lines on top of the power trace, for each rule match event.\n",
    "\n",
    "Note that 18 matches are obtained (not 20) because the last round uses a different code path.\n",
    "\n",
    "In order to overlay the power and debug trace data, we must match their timescales. `multiplier` expresses the ratio of the power trace sampling rate to the debug trace sampling rate. First, we account for the x1 or x4 power trace sampling rate.\n",
    "\n",
    "Then, we account for the debug trace sampling rate. In parallel trace mode this is straightforward -- the debug trace rate is equal to the target processor speed.\n",
    "\n",
    "In SWO mode, there is another factor to account for: the debug trace sampling rate and target clock rate can be different.\n",
    "\n",
    "See https://github.com/newaetech/DesignStartTrace/blob/master/hardware/tracewhisperer/clocks.md for details on what's happening here."
   ]
  },
  {
   "cell_type": "code",
   "execution_count": null,
   "metadata": {},
   "outputs": [],
   "source": [
    "if scope.clock.adc_src == 'clkgen_x4' or scope.clock.adc_src == 'extclk_x4':\n",
    "    multiplier = 4\n",
    "else:\n",
    "    multiplier = 1\n",
    "\n",
    "if TRACE_INTERFACE == 'swo':\n",
    "    multiplier /= trace.swo_target_clock_ratio"
   ]
  },
  {
   "cell_type": "code",
   "execution_count": null,
   "metadata": {},
   "outputs": [],
   "source": [
    "multiplier"
   ]
  },
  {
   "cell_type": "code",
   "execution_count": null,
   "metadata": {},
   "outputs": [],
   "source": [
    "from bokeh.plotting import figure, show\n",
    "from bokeh.io import output_notebook\n",
    "from bokeh.resources import INLINE\n",
    "from bokeh.models import Span\n",
    "\n",
    "output_notebook(INLINE)\n",
    "p = figure(plot_width=1200)\n",
    "\n",
    "xrange = range(len(powertraces[0].wave))\n",
    "p.line(xrange, powertraces[0].wave, line_color=\"red\")\n",
    "\n",
    "vlines = []\n",
    "for t in times:\n",
    "    vlines.append(Span(location=t[0]*multiplier, dimension='height', line_color='black', line_width=2))\n",
    "p.renderers.extend(vlines)"
   ]
  },
  {
   "cell_type": "code",
   "execution_count": null,
   "metadata": {},
   "outputs": [],
   "source": [
    "show(p)"
   ]
  },
  {
   "cell_type": "markdown",
   "metadata": {},
   "source": [
    "# Next steps:\n",
    "\n",
    "1. The [pc_sample_annotate.ipynb](pc_sample_annotate.ipynb) notebook shows an example of something else you can do with trace that's pretty neat: annotating a power waveform with the functions being executed.\n",
    "2. The [uecc.ipynb](https://github.com/newaetech/chipwhisperer-jupyter/blob/master/demos/uecc.ipynb) notebook shows how trace can be used to help execute a side-channel attack on a software ECC target."
   ]
  },
  {
   "cell_type": "code",
   "execution_count": null,
   "metadata": {},
   "outputs": [],
   "source": []
  }
 ],
 "metadata": {
  "kernelspec": {
   "display_name": "Python (venv37)",
   "language": "python",
   "name": "venv37"
  },
  "language_info": {
   "codemirror_mode": {
    "name": "ipython",
    "version": 3
   },
   "file_extension": ".py",
   "mimetype": "text/x-python",
   "name": "python",
   "nbconvert_exporter": "python",
   "pygments_lexer": "ipython3",
   "version": "3.7.4"
  }
 },
 "nbformat": 4,
 "nbformat_minor": 4
}
