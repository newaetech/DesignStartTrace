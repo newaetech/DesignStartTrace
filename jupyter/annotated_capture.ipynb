{
 "cells": [
  {
   "cell_type": "code",
   "execution_count": 1,
   "metadata": {},
   "outputs": [
    {
     "name": "stdout",
     "output_type": "stream",
     "text": [
      "Serial baud rate = 38400\n"
     ]
    }
   ],
   "source": [
    "%run \"Setup_DesignStart.ipynb\""
   ]
  },
  {
   "cell_type": "code",
   "execution_count": 2,
   "metadata": {},
   "outputs": [
    {
     "name": "stdout",
     "output_type": "stream",
     "text": [
      "ArmTrace\n",
      "DesignStart Cortex M3, compiled Jun 29 2020, 15:06:00\n",
      "None\n",
      "FPGA build time: 7/29/2020, 15:21\n"
     ]
    }
   ],
   "source": [
    "print(target.get_target_name())\n",
    "print(target.get_fw_buildtime())\n",
    "print(target.get_fpga_buildtime())"
   ]
  },
  {
   "cell_type": "code",
   "execution_count": 15,
   "metadata": {},
   "outputs": [],
   "source": [
    "target.fpga_write(target.REG_SOFT_TRIG_ENABLE, [1])\n",
    "target.fpga_write(target.REG_COUNTER_QUICK_START, [1])\n",
    "target.fpga_write(target.REG_CAPTURE_RAW, [0])\n",
    "target.fpga_write(target.REG_COUNT_WRITES, [0])\n",
    "target.fpga_write(target.REG_SOFT_TRIG_PASSTHRU, [1])"
   ]
  },
  {
   "cell_type": "code",
   "execution_count": 16,
   "metadata": {},
   "outputs": [],
   "source": [
    "# match on any PC trace packet:\n",
    "target.set_pattern_match(0, [5, 8, 32, 0, 0, 0, 0, 0], [255, 255, 255, 0, 0, 0, 0, 0])\n",
    "#target.set_pattern_match(0, [5, 8, 32, 229, 2, 0, 0, 132], [255, 255, 255, 255, 255, 255, 255, 0])\n",
    "\n",
    "# enable matching rule:\n",
    "target.fpga_write(target.REG_PATTERN_ENABLE, [1])\n",
    "\n",
    "target.fpga_write(target.REG_CAPTURE_LEN, int.to_bytes(10000, length=4, byteorder='little'))"
   ]
  },
  {
   "cell_type": "code",
   "execution_count": 17,
   "metadata": {},
   "outputs": [],
   "source": [
    "target.set_reg('DWT_COMP0', '000012a4')\n",
    "target.set_reg('DWT_COMP1', '000012fc')"
   ]
  },
  {
   "cell_type": "code",
   "execution_count": 18,
   "metadata": {},
   "outputs": [],
   "source": [
    "target.set_reg('ETM_TEEVR', '000150a0') # COMP0 or COMP1\n",
    "#target.set_reg('ETM_TEEVR', '00000020') # COMP0 only\n",
    "#target.set_reg('ETM_TEEVR', '00000021') # COMP1 only"
   ]
  },
  {
   "cell_type": "code",
   "execution_count": 19,
   "metadata": {},
   "outputs": [],
   "source": [
    "target.arm_trace()"
   ]
  },
  {
   "cell_type": "code",
   "execution_count": 20,
   "metadata": {},
   "outputs": [],
   "source": [
    "target.synced()"
   ]
  },
  {
   "cell_type": "code",
   "execution_count": 21,
   "metadata": {},
   "outputs": [
    {
     "name": "stdout",
     "output_type": "stream",
     "text": [
      "r7DF76B0C1AB899B33E42F047B91B546F\n"
     ]
    }
   ],
   "source": [
    "target.simpleserial_write('p', bytearray(16), printresult=True)"
   ]
  },
  {
   "cell_type": "code",
   "execution_count": null,
   "metadata": {},
   "outputs": [],
   "source": [
    "#Capture Traces\n",
    "from tqdm import tnrange\n",
    "import numpy as np\n",
    "import time\n",
    "\n",
    "num_traces = 5\n",
    "ktp = cw.ktp.Basic()\n",
    "\n",
    "traces = []\n",
    "\n",
    "for i in tnrange(num_traces, desc='Capturing traces'):\n",
    "    key, text = ktp.next()  # manual creation of a key, text pair can be substituted here\n",
    "    trace = cw.capture_trace(scope, target.ss, text, key)\n",
    "\n",
    "    if trace is None:\n",
    "        continue\n",
    "    traces.append(trace)\n",
    "\n",
    "#Convert traces to numpy arrays\n",
    "trace_array = np.asarray([trace.wave for trace in traces])  # if you prefer to work with numpy array for number crunching\n",
    "textin_array = np.asarray([trace.textin for trace in traces])\n",
    "known_keys = np.asarray([trace.key for trace in traces])  # for fixed key, these keys are all the same"
   ]
  },
  {
   "cell_type": "code",
   "execution_count": 22,
   "metadata": {},
   "outputs": [
    {
     "data": {
      "text/plain": [
       "array('B', [0, 0, 0, 0, 0, 0, 0, 144])"
      ]
     },
     "execution_count": 22,
     "metadata": {},
     "output_type": "execute_result"
    }
   ],
   "source": [
    "target.fpga_read(target.REG_TRACE_COUNT, 8)"
   ]
  },
  {
   "cell_type": "code",
   "execution_count": 23,
   "metadata": {},
   "outputs": [
    {
     "data": {
      "text/plain": [
       "False"
      ]
     },
     "execution_count": 23,
     "metadata": {},
     "output_type": "execute_result"
    }
   ],
   "source": [
    "target.fifo_empty()"
   ]
  },
  {
   "cell_type": "code",
   "execution_count": 24,
   "metadata": {},
   "outputs": [],
   "source": [
    "raw = target.read_capture_data()"
   ]
  },
  {
   "cell_type": "code",
   "execution_count": 25,
   "metadata": {},
   "outputs": [
    {
     "data": {
      "text/plain": [
       "26"
      ]
     },
     "execution_count": 25,
     "metadata": {},
     "output_type": "execute_result"
    }
   ],
   "source": [
    "len(raw)"
   ]
  },
  {
   "cell_type": "code",
   "execution_count": 26,
   "metadata": {},
   "outputs": [],
   "source": [
    "#target.print_raw_data(raw)"
   ]
  },
  {
   "cell_type": "code",
   "execution_count": 27,
   "metadata": {},
   "outputs": [
    {
     "name": "stdout",
     "output_type": "stream",
     "text": [
      "     158 rule # 0, delta = 158, adjust = 6\n",
      "     378 rule # 0, delta = 220, adjust = 6\n",
      "     662 rule # 0, delta = 284, adjust = 6\n",
      "     886 rule # 0, delta = 224, adjust = 6\n",
      "    1170 rule # 0, delta = 284, adjust = 6\n",
      "    1394 rule # 0, delta = 224, adjust = 6\n",
      "    1678 rule # 0, delta = 284, adjust = 6\n",
      "    1902 rule # 0, delta = 224, adjust = 6\n",
      "    2186 rule # 0, delta = 284, adjust = 6\n",
      "    2410 rule # 0, delta = 224, adjust = 6\n",
      "    2694 rule # 0, delta = 284, adjust = 6\n",
      "    2918 rule # 0, delta = 224, adjust = 6\n",
      "    3202 rule # 0, delta = 284, adjust = 6\n",
      "    3426 rule # 0, delta = 224, adjust = 6\n",
      "    3714 rule # 0, delta = 288, adjust = 6\n",
      "    3934 rule # 0, delta = 220, adjust = 6\n",
      "    4218 rule # 0, delta = 284, adjust = 6\n",
      "    4442 rule # 0, delta = 224, adjust = 6\n"
     ]
    }
   ],
   "source": [
    "times = target.get_rule_match_times(raw, rawtimes=False, verbose=True)"
   ]
  },
  {
   "cell_type": "code",
   "execution_count": null,
   "metadata": {},
   "outputs": [],
   "source": [
    "times = target.get_rule_match_times(raw, rawtimes=True, verbose=True)"
   ]
  },
  {
   "cell_type": "code",
   "execution_count": null,
   "metadata": {},
   "outputs": [],
   "source": [
    "len(times)"
   ]
  },
  {
   "cell_type": "code",
   "execution_count": null,
   "metadata": {},
   "outputs": [],
   "source": [
    "times = target.get_rule_match_times(raw, True)"
   ]
  },
  {
   "cell_type": "code",
   "execution_count": null,
   "metadata": {},
   "outputs": [],
   "source": [
    "times"
   ]
  },
  {
   "cell_type": "code",
   "execution_count": null,
   "metadata": {},
   "outputs": [],
   "source": [
    "# plot!"
   ]
  },
  {
   "cell_type": "code",
   "execution_count": null,
   "metadata": {},
   "outputs": [],
   "source": [
    "if scope.clock.adc_src == 'clkgen_x4' or scope.clock.adc_src == 'extclk_x4':\n",
    "    multiplier = 4\n",
    "else:\n",
    "    multiplier = 1"
   ]
  },
  {
   "cell_type": "code",
   "execution_count": null,
   "metadata": {},
   "outputs": [],
   "source": [
    "from bokeh.plotting import figure, show\n",
    "from bokeh.io import output_notebook\n",
    "from bokeh.resources import INLINE\n",
    "from bokeh.models import Span\n",
    "\n",
    "output_notebook(INLINE)\n",
    "p = figure(plot_width=2000)\n",
    "\n",
    "xrange = range(len(traces[0].wave))\n",
    "p.line(xrange, traces[0].wave, line_color=\"red\")\n",
    "\n",
    "vlines = []\n",
    "for t in times:\n",
    "    vlines.append(Span(location=t[0]*multiplier, dimension='height', line_color='black', line_width=1))\n",
    "\n",
    "p.renderers.extend(vlines)\n",
    "\n",
    "show(p)"
   ]
  },
  {
   "cell_type": "code",
   "execution_count": null,
   "metadata": {},
   "outputs": [],
   "source": [
    "def update_plot(trace=0, markers=1):\n",
    "\n",
    "    r.data_source.data['y'] = traces[trace].wave\n",
    "    push_notebook()"
   ]
  },
  {
   "cell_type": "code",
   "execution_count": null,
   "metadata": {},
   "outputs": [],
   "source": [
    "from bokeh.plotting import figure, show\n",
    "from bokeh.io import output_notebook, push_notebook\n",
    "from bokeh.resources import INLINE\n",
    "from bokeh.models import Span\n",
    "from ipywidgets import interact, Layout\n",
    "\n",
    "output_notebook(INLINE)\n",
    "p = figure(plot_width=2000)\n",
    "\n",
    "xrange = range(len(traces[0].wave))\n",
    "r = p.line(xrange, traces[0].wave, line_color=\"red\")\n",
    "\n",
    "vlines = []\n",
    "for t in times:\n",
    "    vlines.append(Span(location=t[0]*multiplier, dimension='height', line_color='black', line_width=1))\n",
    "\n",
    "p.renderers.extend(vlines)"
   ]
  },
  {
   "cell_type": "code",
   "execution_count": null,
   "metadata": {},
   "outputs": [],
   "source": [
    "show(p, notebook_handle=True)"
   ]
  },
  {
   "cell_type": "code",
   "execution_count": null,
   "metadata": {},
   "outputs": [],
   "source": [
    "interact(update_plot, trace=(0, len(traces)-1), markers=(0, 1))"
   ]
  },
  {
   "cell_type": "code",
   "execution_count": null,
   "metadata": {},
   "outputs": [],
   "source": []
  }
 ],
 "metadata": {
  "kernelspec": {
   "display_name": "Python 3",
   "language": "python",
   "name": "python3"
  },
  "language_info": {
   "codemirror_mode": {
    "name": "ipython",
    "version": 3
   },
   "file_extension": ".py",
   "mimetype": "text/x-python",
   "name": "python",
   "nbconvert_exporter": "python",
   "pygments_lexer": "ipython3",
   "version": "3.7.4"
  }
 },
 "nbformat": 4,
 "nbformat_minor": 4
}
