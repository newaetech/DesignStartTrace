{
 "cells": [
  {
   "cell_type": "markdown",
   "metadata": {},
   "source": [
    "# Clock Alignment for Trace Capture\n",
    "\n",
    "This notebook shows how to shift the trace capture clock to properly capture trace data.\n",
    "\n",
    "It only runs on the CW-Husky because it uses Husky's logic analyzer, but the same principles apply for the CW610 platform.\n",
    "\n",
    "On the CW610, you'll have to make the phase adjustments somewhat blindly, although you can use an external logic analyzer to probe the external trace signals, and from that, infer how the clock should be shifted. While you won't be able to run this notebook on the CW610, you can still read through it to understand what needs to be done.\n",
    "\n",
    "All this is irrelevant on the CW305 platform because no alignment is required there.\n",
    "\n",
    "Finally, this is written for our MK82F target with the CW308, running our simpleserial-trace firmware.\n",
    "\n",
    "Given all this, there aren't really any options left to choose:"
   ]
  },
  {
   "cell_type": "code",
   "execution_count": null,
   "metadata": {},
   "outputs": [],
   "source": [
    "TRACE_PLATFORM = 'Husky' # other platforms (CW610/CW305) are not supported\n",
    "PLATFORM = 'CW308_K82F' # other targets not supported\n",
    "TRACE_INTERFACE = 'parallel'\n",
    "RAW_CAPTURE = True # using raw capture will make it easier to see how things are working"
   ]
  },
  {
   "cell_type": "code",
   "execution_count": null,
   "metadata": {},
   "outputs": [],
   "source": [
    "# platform setup:\n",
    "SCOPETYPE = 'OPENADC'\n",
    "%run \"Helper_Scripts/Setup_Generic.ipynb\"\n",
    "scope.trace.target = target\n",
    "trace = scope.trace\n",
    "trace.enabled = True\n",
    "scope.adc.clip_errors_disabled = True\n",
    "scope.adc.lo_gain_errors_disabled = True"
   ]
  },
  {
   "cell_type": "code",
   "execution_count": null,
   "metadata": {},
   "outputs": [],
   "source": [
    "assert scope._is_husky, \"This notebook is only for CW-Husky.\""
   ]
  },
  {
   "cell_type": "code",
   "execution_count": null,
   "metadata": {},
   "outputs": [],
   "source": [
    "# required after programming some targets:\n",
    "def target_reset():\n",
    "    if TRACE_PLATFORM == 'CW610' or TRACE_PLATFORM == 'Husky':\n",
    "        scope.io.nrst = 'low'\n",
    "        time.sleep(0.05)\n",
    "        scope.io.nrst = 'high'\n",
    "        time.sleep(0.05)"
   ]
  },
  {
   "cell_type": "code",
   "execution_count": null,
   "metadata": {},
   "outputs": [],
   "source": [
    "target_reset()"
   ]
  },
  {
   "cell_type": "code",
   "execution_count": null,
   "metadata": {},
   "outputs": [],
   "source": [
    "# target info and buildtimes:\n",
    "print(trace.phywhisperer_name())\n",
    "print(trace.get_fw_buildtime())\n",
    "if TRACE_PLATFORM == 'Husky':\n",
    "    print(scope.fpga_buildtime)\n",
    "else:\n",
    "    print(trace.fpga_buildtime)"
   ]
  },
  {
   "cell_type": "code",
   "execution_count": null,
   "metadata": {},
   "outputs": [],
   "source": [
    "assert 'ChipWhisperer simpleserial-trace, compiled' in trace.get_fw_buildtime(), \"Looks like you have the wrong firmware, please compile and program the firmware in this directory of your ChipWhisperer installation: hardware/victims/firmware/simpleserial-trace\""
   ]
  },
  {
   "cell_type": "markdown",
   "metadata": {},
   "source": [
    "We set the target clock faster than the default 7.37 MHz because phase shifting the trace clock doesn't work if the target clock is slower than 10 MHz."
   ]
  },
  {
   "cell_type": "code",
   "execution_count": null,
   "metadata": {},
   "outputs": [],
   "source": [
    "clock = 20e6\n",
    "scope.clock.clkgen_freq = clock\n",
    "scope.clock.adc_mul = 1\n",
    "time.sleep(0.1)\n",
    "assert scope.clock.pll.pll_locked == True\n",
    "assert scope.clock.adc_freq == clock\n",
    "target.baud = 38400 * clock / 1e6 / 7.37"
   ]
  },
  {
   "cell_type": "markdown",
   "metadata": {},
   "source": [
    "Next, we set up trace in much the same way as TraceWhisperer.ipynb does. Refer to that notebook for explanations on what these commands do."
   ]
  },
  {
   "cell_type": "code",
   "execution_count": null,
   "metadata": {},
   "outputs": [],
   "source": [
    "trace.trace_mode = 'parallel'\n",
    "\n",
    "trace.capture.trigger_source = 'firmware trigger'\n",
    "trace.capture.raw = True\n",
    "trace.capture.rules_enabled = []\n",
    "trace.capture.mode = 'while_trig'\n",
    "\n",
    "trace.set_isync_matches(addr0=0x3ef0, addr1=0x3f1c, match='both')\n",
    "trace.set_periodic_pc_sampling(enable=1)\n",
    "\n",
    "sstarget = trace._ss"
   ]
  },
  {
   "cell_type": "markdown",
   "metadata": {},
   "source": [
    "We'll start by using the target clock, since this works out-of-the-box on our K82 target.\n",
    "\n",
    "This way, you can see what a capture is expected to look like."
   ]
  },
  {
   "cell_type": "code",
   "execution_count": null,
   "metadata": {},
   "outputs": [],
   "source": [
    "trace.clock.fe_clock_src = 'target_clock'\n",
    "assert trace.clock.fe_clock_alive, \"Hmm, the clock you chose doesn't seem to be active.\"\n",
    "trace.resync()"
   ]
  },
  {
   "cell_type": "markdown",
   "metadata": {},
   "source": [
    "We'll also turn on the shifted trace clock, even though we're not going to use it yet:"
   ]
  },
  {
   "cell_type": "code",
   "execution_count": null,
   "metadata": {},
   "outputs": [],
   "source": [
    "trace.clock.trace_clock_shift_enable = True\n",
    "trace.clock.trace_clock_set_freq(10e6)\n",
    "trace.clock.trace_clock_shift_steps = 0"
   ]
  },
  {
   "cell_type": "markdown",
   "metadata": {},
   "source": [
    "Next we set up Husky's logic analyzer to capture raw trace data waveforms. We're triggering the `scope.LA` capture on the falling edge of the `USERIO D4` pin which is bit 0 of the 4-bit parallel trace data bus.\n",
    "\n",
    "(Most trace data pins would work just as well, except for bit 3 (`USERIO D7`) because it periodically toggles even when the trace bus is idle; if we triggered on bit 0, we wouldn't observe the rest of the data bus toggling.)"
   ]
  },
  {
   "cell_type": "code",
   "execution_count": null,
   "metadata": {},
   "outputs": [],
   "source": [
    "trace.clock._warning_frequency = 401e6\n",
    "scope.trace.enabled = False\n",
    "scope.LA.enabled = True\n",
    "scope.LA.trigger_source = 'falling_userio_d4'\n",
    "scope.LA.oversampling_factor = 20\n",
    "scope.LA.capture_depth = 400\n",
    "scope.LA.capture_group = 'internal trace 2'"
   ]
  },
  {
   "cell_type": "code",
   "execution_count": null,
   "metadata": {},
   "outputs": [],
   "source": [
    "scope.LA.arm()\n",
    "cw.capture_trace(scope, sstarget, bytearray(16), bytearray(16))\n",
    "assert scope.LA.fifo_empty() == False"
   ]
  },
  {
   "cell_type": "code",
   "execution_count": null,
   "metadata": {},
   "outputs": [],
   "source": [
    "raw = scope.LA.read_capture_data()\n",
    "target_clk        = scope.LA.extract(raw, 0)\n",
    "trace_clk_in      = scope.LA.extract(raw, 1)\n",
    "trace_d0          = scope.LA.extract(raw, 3)\n",
    "trace_d1          = scope.LA.extract(raw, 4)\n",
    "trace_d2          = scope.LA.extract(raw, 5)\n",
    "trace_d3          = scope.LA.extract(raw, 6)"
   ]
  },
  {
   "cell_type": "code",
   "execution_count": null,
   "metadata": {},
   "outputs": [],
   "source": [
    "from bokeh.plotting import figure, show\n",
    "from bokeh.resources import INLINE\n",
    "from bokeh.models import Span, Legend, LegendItem\n",
    "from bokeh.io import output_notebook\n",
    "import numpy as np\n",
    "output_notebook(INLINE)\n",
    "\n",
    "o = figure(plot_width=1800)\n",
    "\n",
    "xrange = range(len(target_clk))\n",
    "T0 = o.line(xrange, target_clk        + 10, line_color='black')\n",
    "T1 = o.line(xrange, trace_clk_in      + 8, line_color='red')\n",
    "T3 = o.line(xrange, trace_d0          + 6,  line_color='orange')\n",
    "T4 = o.line(xrange, trace_d1          + 4,  line_color='green')\n",
    "T5 = o.line(xrange, trace_d2          + 2,  line_color='brown')\n",
    "T6 = o.line(xrange, trace_d3          + 0,  line_color='black')\n",
    "\n",
    "legend = Legend(items=[\n",
    "    LegendItem(label='target clock', renderers=[T0]),\n",
    "    LegendItem(label='trace clock', renderers=[T1]),\n",
    "    LegendItem(label='trace data[0]', renderers=[T3]),\n",
    "    LegendItem(label='trace data[1]', renderers=[T4]),\n",
    "    LegendItem(label='trace data[2]', renderers=[T5]),\n",
    "    LegendItem(label='trace data[3]', renderers=[T6]),\n",
    "])\n",
    "o.add_layout(legend)"
   ]
  },
  {
   "cell_type": "code",
   "execution_count": null,
   "metadata": {},
   "outputs": [],
   "source": [
    "# add glitch markers:\n",
    "def find_transitions(data, pattern):\n",
    "    return [i for i in range(0,len(data)) if list(data[i:i+len(pattern)])==pattern]\n",
    "\n",
    "data_edge = find_transitions(trace_d3[200:], [0,1])[0]\n",
    "target_clock_edge = find_transitions(target_clk[200+data_edge:], [0,1])[0]\n",
    "trace_clock_edge = find_transitions(trace_clk_in[200+data_edge-10:], [0,1])[0]\n",
    "\n",
    "transitions = [data_edge+200+1, target_clock_edge+200+data_edge+1, trace_clock_edge+200+data_edge-10+1]\n",
    "\n",
    "o.renderers.extend([Span(location=transitions[0], dimension='height', line_color='blue',  line_width=1, line_dash='dashed')])\n",
    "o.renderers.extend([Span(location=transitions[1], dimension='height', line_color='green', line_width=1, line_dash='dashed')])\n",
    "o.renderers.extend([Span(location=transitions[2], dimension='height', line_color='red',   line_width=1, line_dash='dashed')])"
   ]
  },
  {
   "cell_type": "code",
   "execution_count": null,
   "metadata": {},
   "outputs": [],
   "source": [
    "show(o)"
   ]
  },
  {
   "cell_type": "markdown",
   "metadata": {},
   "source": [
    "The top black clock is the target clock, generated by Husky and provided to the target.\n",
    "\n",
    "The four bottom lines are the raw DDR trace data lines (the same you would observed if you hooked up a logic analyzer on your target's trace data pins).\n",
    "\n",
    "The red clock is the trace clock generated by the target.\n",
    "\n",
    "The vertical blue dashed line shows when all 4 trace data lines transition from 0 to 1.\n",
    "\n",
    "The green dashed line shows when this `TRACEDATA = 0xf` nibble would be sampled by the target clock; all is well if the target clock is used to sample the trace data.\n",
    "\n",
    "However, the red dashed line shows the rising edge of the trace clocks are occuring *just before* the trace data change, which results in missampled data.\n",
    "\n",
    "We'll fix this problem by shifting the trace clock.\n",
    "\n",
    "We'll do this by sweeping the trace clock phase shift across one full trace clock period. This will let us visually identify a good phase shift setting.\n",
    "\n",
    "We first switch to selecting the shifted trace clock as the sampling clock:"
   ]
  },
  {
   "cell_type": "code",
   "execution_count": null,
   "metadata": {},
   "outputs": [],
   "source": [
    "trace.clock.fe_clock_src = 'trace_clock'\n",
    "trace.clock.trace_clock_shift_enable = True"
   ]
  },
  {
   "cell_type": "code",
   "execution_count": null,
   "metadata": {},
   "outputs": [],
   "source": [
    "STEPS = scope.LA.oversampling_factor * 2\n",
    "increment = trace.clock.trace_clock_shift_range // STEPS\n",
    "start = 0\n",
    "\n",
    "import numpy as np\n",
    "trace_clk_in  = np.zeros((STEPS, scope.LA.capture_depth))\n",
    "trace_clk_shifted = np.zeros((STEPS, scope.LA.capture_depth))\n",
    "trace_data3 = np.zeros((STEPS, scope.LA.capture_depth))\n",
    "steps = []\n",
    "\n",
    "from tqdm.notebook import tnrange\n",
    "\n",
    "trace.clock.trace_clock_shift_steps = start\n",
    "\n",
    "for o in tnrange(STEPS):\n",
    "    steps.append(trace.clock.trace_clock_shift_steps)\n",
    "    scope.LA.arm()\n",
    "    cw.capture_trace(scope, sstarget, bytearray(16), bytearray(16))\n",
    "    raw = scope.LA.read_capture_data()\n",
    "    trace_clk_in[o]   = scope.LA.extract(raw, 1)\n",
    "    trace_clk_shifted[o]  = scope.LA.extract(raw, 2)\n",
    "    trace_data3[o]  = scope.LA.extract(raw, 6)\n",
    "    trace.clock.trace_clock_shift_steps += increment"
   ]
  },
  {
   "cell_type": "code",
   "execution_count": null,
   "metadata": {},
   "outputs": [],
   "source": [
    "def update_plot(offset):\n",
    "    S1.data_source.data['y'] = trace_clk_in[offset] + 4\n",
    "    S2.data_source.data['y'] = trace_clk_shifted[offset] + 2\n",
    "    S3.data_source.data['y'] = trace_data3[offset] + 0\n",
    "    push_notebook()"
   ]
  },
  {
   "cell_type": "code",
   "execution_count": null,
   "metadata": {},
   "outputs": [],
   "source": [
    "from ipywidgets import interact, Layout\n",
    "from bokeh.io import push_notebook\n",
    "from bokeh.models import Span, Legend, LegendItem\n",
    "\n",
    "o = 0\n",
    "\n",
    "S = figure(plot_width=1800)\n",
    "\n",
    "xrange = range(len(trace_clk_in[o]))\n",
    "S1 = S.line(xrange, trace_clk_in[o]  + 4, line_color='red')\n",
    "S2 = S.line(xrange, trace_clk_shifted[o] + 2, line_color='blue')\n",
    "S3 = S.line(xrange, trace_data3[o] + 0, line_color='black')\n"
   ]
  },
  {
   "cell_type": "code",
   "execution_count": null,
   "metadata": {},
   "outputs": [],
   "source": [
    "show(S, notebook_handle=True)"
   ]
  },
  {
   "cell_type": "code",
   "execution_count": null,
   "metadata": {},
   "outputs": [],
   "source": [
    "interact(update_plot, offset=(0, STEPS-1))"
   ]
  },
  {
   "cell_type": "markdown",
   "metadata": {},
   "source": [
    "By moving the \"offset\" slider across its range, you should observe the (blue) shifted trace clock travel one full period.\n",
    "\n",
    "The interactive plot also shows one of the trace data lines for reference. Some of the trace data values vary across the captures, but this should still serve as a useful reference for picking a good phase shift.\n",
    "\n",
    "Ideally, you want to pick an offset such that the *falling edge* of the shifted clock is roughly in the middle of the single-bit zero that's around x=360. The screen capture below illustrates this.\n",
    "\n",
    "![offset](images/offset.png)"
   ]
  },
  {
   "cell_type": "markdown",
   "metadata": {},
   "source": [
    "Play around with the interactive plot to find a good offset value for your setup.\n",
    "\n",
    "To get the actual phase shift step value corresponding to the \"offset\" value on the interactive slider, use the slider value to index the `steps` array:"
   ]
  },
  {
   "cell_type": "code",
   "execution_count": null,
   "metadata": {},
   "outputs": [],
   "source": [
    "trace.clock.trace_clock_shift_steps = steps[11]"
   ]
  },
  {
   "cell_type": "markdown",
   "metadata": {},
   "source": [
    "Now let's use this shifted trace clock to actually sample the trace data:"
   ]
  },
  {
   "cell_type": "code",
   "execution_count": null,
   "metadata": {},
   "outputs": [],
   "source": [
    "trace.clock.fe_clock_src = 'trace_clock'\n",
    "trace.clock.trace_clock_shift_enable = True\n",
    "assert trace.clock.trace_clock_shift_locked == True"
   ]
  },
  {
   "cell_type": "markdown",
   "metadata": {},
   "source": [
    "Even when idle, the parallel trace data port emits periodic synchronization frames.\n",
    "\n",
    "A successful call to `trace.resync()` indicates that Husky is able to identify these synchronization frames, so that's a good first sign that we're sampling correctly.\n",
    "\n",
    "(Synchronization frames have a single 0 bit followed by a long string of ones, so this doesn't prove we can sample everything correctly, but it's a start.)"
   ]
  },
  {
   "cell_type": "code",
   "execution_count": null,
   "metadata": {},
   "outputs": [],
   "source": [
    "trace.resync()"
   ]
  },
  {
   "cell_type": "markdown",
   "metadata": {},
   "source": [
    "Now, let's see that the trace data we're collecting can actually be parsed. Let's run an actual trace capture and see what we get.\n",
    "\n",
    "`scope.LA` and `scope.trace` can't both be active at the same time, so we need to disable the logic analyzer."
   ]
  },
  {
   "cell_type": "code",
   "execution_count": null,
   "metadata": {},
   "outputs": [],
   "source": [
    "scope.LA.enabled = False\n",
    "trace.enabled = True"
   ]
  },
  {
   "cell_type": "code",
   "execution_count": null,
   "metadata": {},
   "outputs": [],
   "source": [
    "trace.arm_trace()\n",
    "powertrace = cw.capture_trace(scope, sstarget, bytearray(16), bytearray(16))\n",
    "assert powertrace is not None, 'Capture failed'"
   ]
  },
  {
   "cell_type": "markdown",
   "metadata": {},
   "source": [
    "Then we read the raw trace data and segment it into raw frames.\n",
    "\n",
    "If data was sampled correctly, you will get an output of many lines starting with:\n",
    "\n",
    "`Pseudoframe: 03 17 (...)`\n",
    "\n",
    "or:\n",
    "\n",
    "`Pseudoframe: 03 08 (...)`"
   ]
  },
  {
   "cell_type": "code",
   "execution_count": null,
   "metadata": {},
   "outputs": [],
   "source": [
    "raw = trace.read_capture_data()"
   ]
  },
  {
   "cell_type": "code",
   "execution_count": null,
   "metadata": {
    "tags": []
   },
   "outputs": [],
   "source": [
    "frames = trace.get_raw_trace_packets(raw, removesyncs=True, verbose=True)"
   ]
  },
  {
   "cell_type": "markdown",
   "metadata": {},
   "source": [
    "Like in `TraceWhisperer.ipynb`, we use Orbuculum to parse the raw trace data. This is the test for whether the trace data was sampled correctly; if it wasn't, Orbuculum won't be able to make much sense of it:"
   ]
  },
  {
   "cell_type": "code",
   "execution_count": null,
   "metadata": {},
   "outputs": [],
   "source": [
    "# first, write out the raw trace data to a file:\n",
    "trace.write_raw_capture(frames, 'raw.bin')"
   ]
  },
  {
   "cell_type": "code",
   "execution_count": null,
   "metadata": {},
   "outputs": [],
   "source": [
    "# change the path to where the orbuculum executable resides on your own system:"
   ]
  },
  {
   "cell_type": "code",
   "execution_count": null,
   "metadata": {},
   "outputs": [],
   "source": [
    "%%bash\n",
    "/home/jpnewae/git/orbuculum/ofiles/orbuculum -t -f raw.bin -P -e\n",
    "cat hwevent"
   ]
  },
  {
   "cell_type": "markdown",
   "metadata": {},
   "source": [
    "If decoding was successful, the output above should be a fairly long list of frames.\n",
    "\n",
    "Refer to Orbuculum documentation for more information, but basically you should see two types of entries in the output above:\n",
    "1. Starts with '2': periodic PC sample; last field is the PC value\n",
    "2. Starts with '8': Isync match; last field is the PC value\n",
    "\n",
    "In our case, we should find 20 Isync match events (and lots more periodic PC events):"
   ]
  },
  {
   "cell_type": "code",
   "execution_count": null,
   "metadata": {},
   "outputs": [],
   "source": [
    "%%bash\n",
    "grep -c ^8 hwevent\n",
    "grep -c ^2 hwevent"
   ]
  },
  {
   "cell_type": "markdown",
   "metadata": {},
   "source": [
    "Moreover, the PC value for the isync match frames should alternate between `0x00003f1c` and `0x00003ef2`:"
   ]
  },
  {
   "cell_type": "code",
   "execution_count": null,
   "metadata": {},
   "outputs": [],
   "source": [
    "%%bash\n",
    "grep ^8 hwevent"
   ]
  },
  {
   "cell_type": "markdown",
   "metadata": {},
   "source": [
    "If you repeat the trace capture with a `trace.clock.trace_clock_shift_steps` which is very very close to the data edge but still achieves synchronization (e.g. 10), you may find that the sample raw trace data looks quite different, and that Orbuculum has trouble decoding it.\n",
    "\n",
    "Now let's sample more trace data to ensure it's always being sampled properly.\n",
    "\n",
    "Unfortunately, raw trace data is non-trivial to parse. Orbuculum can do this for us, but we can't call it in a notebook loop. We can however check the first two bytes of each trace \"frame\" without decoding the trace data:"
   ]
  },
  {
   "cell_type": "code",
   "execution_count": null,
   "metadata": {},
   "outputs": [],
   "source": [
    "num_traces = 10\n",
    "total_bytes_checked = 0\n",
    "\n",
    "from tqdm.notebook import tnrange\n",
    "for i in tnrange(num_traces):\n",
    "    trace.arm_trace()\n",
    "    cw.capture_trace(scope, sstarget, bytearray(16), bytearray(16))\n",
    "    raw = trace.read_capture_data()\n",
    "    frames = trace.get_raw_trace_packets(raw, removesyncs=True, verbose=False)\n",
    "    for f in frames:\n",
    "        assert f[1][0] == 0x03, \"Expected 0x03, got 0x%0x\" % f[1][0]\n",
    "        assert f[1][1] in [0x17,0x08], \"Expected 0x17 or 0x08, got 0x%0x\" % f[1][1]\n",
    "        total_bytes_checked += 2\n",
    "\n",
    "print(\"Number of trace bytes checked: %d\" % total_bytes_checked)"
   ]
  },
  {
   "cell_type": "markdown",
   "metadata": {},
   "source": [
    "To check all the trace data, we need to use Orbuculum.\n",
    "\n",
    "We'll change the capture a bit to maximimize how much trace data we can obtain and check in a single execution.\n",
    "\n",
    "First, we'll set Husky to capture *all* trace events:"
   ]
  },
  {
   "cell_type": "code",
   "execution_count": null,
   "metadata": {},
   "outputs": [],
   "source": [
    "trace.capture.mode = 'count_writes'\n",
    "trace.capture.count = 0"
   ]
  },
  {
   "cell_type": "markdown",
   "metadata": {},
   "source": [
    "Then, we'll have the target run 500 back-to-back AES encryptions.\n",
    "\n",
    "We'll disable the periodic PC sampling, so that the only trace data we see are the two specific PC matches (isync frames).\n",
    "\n",
    "Husky's trace module will capture all the trace data it sees until it runs out of storage space."
   ]
  },
  {
   "cell_type": "code",
   "execution_count": null,
   "metadata": {},
   "outputs": [],
   "source": [
    "segments = 500\n",
    "trace.set_periodic_pc_sampling(enable=0)\n",
    "trace.arm_trace()\n",
    "target.set_key(bytearray(16))\n",
    "target.simpleserial_write('n', int.to_bytes(segments, length=2, byteorder='little'))\n",
    "scope.arm()\n",
    "target.simpleserial_write('f', bytearray(16))\n",
    "ret = scope.capture()\n",
    "raw = trace.read_capture_data()\n",
    "frames = trace.get_raw_trace_packets(raw, removesyncs=True, verbose=False)"
   ]
  },
  {
   "cell_type": "markdown",
   "metadata": {},
   "source": [
    "Then we call Orbuculum to decode the trace data. We expect only two types of frames, so it's easy to check whether all of the trace data was sampled correctly."
   ]
  },
  {
   "cell_type": "code",
   "execution_count": null,
   "metadata": {},
   "outputs": [],
   "source": [
    "# first, write out the raw trace data to a file:\n",
    "trace.write_raw_capture(frames, 'raw.bin')"
   ]
  },
  {
   "cell_type": "code",
   "execution_count": null,
   "metadata": {},
   "outputs": [],
   "source": [
    "%%bash\n",
    "/home/jpnewae/git/orbuculum/ofiles/orbuculum -t -f raw.bin -P -e\n",
    "ls -l hwevent"
   ]
  },
  {
   "cell_type": "code",
   "execution_count": null,
   "metadata": {},
   "outputs": [],
   "source": [
    "parsed_trace_frames = open('hwevent', 'r')"
   ]
  },
  {
   "cell_type": "code",
   "execution_count": null,
   "metadata": {},
   "outputs": [],
   "source": [
    "errors = 0\n",
    "for frame in parsed_trace_frames:\n",
    "    frame = frame.strip()\n",
    "    if frame not in ['8,21,0x00003ef2', '8,21,0x00003f1c']:\n",
    "        print(\"Got unexpected frame: %s\" % frame)\n",
    "        errors += 1\n",
    "parsed_trace_frames.close()"
   ]
  },
  {
   "cell_type": "markdown",
   "metadata": {},
   "source": [
    "Now count how many raw trace bytes we've checked:"
   ]
  },
  {
   "cell_type": "code",
   "execution_count": null,
   "metadata": {},
   "outputs": [],
   "source": [
    "total_bytes_checked = 0\n",
    "for f in frames:\n",
    "    total_bytes_checked += len(f[1])\n",
    "print('Total raw frame bytes checked: %d' % total_bytes_checked)"
   ]
  },
  {
   "cell_type": "markdown",
   "metadata": {},
   "source": [
    "If you want to further increase your confidence in Husky's trace sampling, go back and re-run the last few cells (starting from `segments = 500...`) as many times as you'd like."
   ]
  },
  {
   "cell_type": "code",
   "execution_count": null,
   "metadata": {},
   "outputs": [],
   "source": []
  }
 ],
 "metadata": {
  "kernelspec": {
   "display_name": "Python (venv37)",
   "language": "python",
   "name": "venv37"
  },
  "language_info": {
   "codemirror_mode": {
    "name": "ipython",
    "version": 3
   },
   "file_extension": ".py",
   "mimetype": "text/x-python",
   "name": "python",
   "nbconvert_exporter": "python",
   "pygments_lexer": "ipython3",
   "version": "3.7.4"
  }
 },
 "nbformat": 4,
 "nbformat_minor": 4
}
