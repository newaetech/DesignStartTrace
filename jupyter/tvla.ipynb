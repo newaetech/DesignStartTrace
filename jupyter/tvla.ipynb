{
 "cells": [
  {
   "cell_type": "code",
   "execution_count": null,
   "metadata": {},
   "outputs": [],
   "source": [
    "%run \"Setup_DesignStart.ipynb\""
   ]
  },
  {
   "cell_type": "code",
   "execution_count": null,
   "metadata": {},
   "outputs": [],
   "source": [
    "print(target.get_target_name())\n",
    "print(target.get_fw_buildtime())\n",
    "print(target.get_fpga_buildtime())"
   ]
  },
  {
   "cell_type": "code",
   "execution_count": null,
   "metadata": {},
   "outputs": [],
   "source": [
    "# stable trigger:\n",
    "target.fpga_write(target.REG_COUNTER_QUICK_START, [1])\n",
    "target.fpga_write(target.REG_CAPTURE_RAW, [0])\n",
    "target.fpga_write(target.REG_COUNT_WRITES, [0])\n",
    "target.fpga_write(target.REG_SOFT_TRIG_ENABLE, [1])\n",
    "target.fpga_write(target.REG_SOFT_TRIG_PASSTHRU, [1])\n",
    "target.fpga_write(target.REG_PATTERN_TRIG_ENABLE, [0])"
   ]
  },
  {
   "cell_type": "code",
   "execution_count": null,
   "metadata": {},
   "outputs": [],
   "source": [
    "# match on any PC trace packet:\n",
    "target.set_pattern_match(0, [5, 8, 32, 0, 0, 0, 0, 0], [255, 255, 255, 0, 0, 0, 0, 0])\n",
    "#target.set_pattern_match(0, [5, 8, 32, 229, 2, 0, 0, 132], [255, 255, 255, 255, 255, 255, 255, 0])\n",
    "\n",
    "# enable matching rule:\n",
    "target.fpga_write(target.REG_PATTERN_ENABLE, [1])\n",
    "\n",
    "target.fpga_write(target.REG_CAPTURE_LEN, int.to_bytes(10000, length=4, byteorder='little'))"
   ]
  },
  {
   "cell_type": "code",
   "execution_count": null,
   "metadata": {},
   "outputs": [],
   "source": [
    "project = cw.create_project(\"projects/jupyter_tvla_sw.cwp\", overwrite=True)"
   ]
  },
  {
   "cell_type": "code",
   "execution_count": null,
   "metadata": {},
   "outputs": [],
   "source": [
    "# Capture Traces for TVLA test - no tracing here, we first need to find where the TVLA failures are\n",
    "import chipwhisperer as cw\n",
    "from tqdm import tnrange\n",
    "import numpy as np\n",
    "import time\n",
    "\n",
    "N = 50  # Number of traces\n",
    "\n",
    "ktp = cw.ktp.TVLATTest()\n",
    "ktp.init(N)\n",
    "traces = []\n",
    "\n",
    "keys = []\n",
    "for i in tnrange(N, desc='Capturing traces'):\n",
    "    key, text = ktp.next()  # TVLA T-Test changes PT between two options\n",
    "    keys.append(key)\n",
    "    trace = cw.capture_trace(scope, target.ss, text, key)\n",
    "\n",
    "    if trace is None:\n",
    "        continue\n",
    "    project.traces.append(trace)"
   ]
  },
  {
   "cell_type": "code",
   "execution_count": null,
   "metadata": {},
   "outputs": [],
   "source": [
    "project.save()"
   ]
  },
  {
   "cell_type": "code",
   "execution_count": null,
   "metadata": {},
   "outputs": [],
   "source": [
    "import holoviews as hv\n",
    "hv.extension('bokeh')\n",
    "import numpy as np\n",
    "import scipy\n",
    "import scipy.stats\n",
    "\n",
    "project = cw.open_project('projects/jupyter_tvla_sw.cwp')\n",
    "fixedpy = [0xda, 0x39, 0xa3, 0xee, 0x5e, 0x6b, 0x4b, 0x0d, 0x32, 0x55, 0xbf, 0xef, 0x95, 0x60, 0x18, 0x90]\n",
    "\n",
    "testouts = []\n",
    "num_traces = len(project.traces)\n",
    "num_points = len(project.waves[0])\n",
    "print(num_traces, num_points)\n",
    "curve = hv.Curve([])\n",
    "\n",
    "def do_the_ttvla(project, ntraces=-1):\n",
    "    global curve, line\n",
    "    if ntraces == -1:\n",
    "        ntraces = int(num_traces / 2)\n",
    "        \n",
    "    if ntraces * 2 > num_traces:\n",
    "        raise ValueError(\"Invalid ntraces\")\n",
    "    for g in range(0, 2):\n",
    "        group = [(list(project.textins[i]) == fixedpy) for i in range(g*ntraces, g*ntraces+ntraces)]\n",
    "        trace = np.zeros((ntraces, num_points))\n",
    "\n",
    "        for n in range(g*ntraces, g*ntraces+ntraces):\n",
    "            trace[n - g*ntraces][:] = project.waves[n]\n",
    "                \n",
    "        testout = welch_ttest(group, trace)\n",
    "        curve *= hv.Curve(testout)\n",
    "        testouts.extend(testout)\n",
    "        \n",
    "    curve *= hv.Path([(0, -4.5), (num_points, -4.5)]).opts(color=\"black\") * \\\n",
    "    hv.Path([(0, 4.5), (num_points, 4.5)]).opts(color=\"black\")\n",
    "\n",
    "def welch_ttest(group, traces):\n",
    "    import warnings\n",
    "    # Compute Welch's t-statistic at each point in time\n",
    "    # Here, group[] must only contain booleans (True/False)\n",
    "    traces_true = traces[np.where(np.array(group))]\n",
    "    traces_false = traces[np.where(~np.array(group))]\n",
    "    \n",
    "    if len(traces_true) == 0:\n",
    "        traces_true  = np.array([[np.nan for _ in range(len(traces[0]))]])\n",
    "    if len(traces_false) == 0:\n",
    "        traces_false = np.array([[np.nan for _ in range(len(traces[0]))]])\n",
    "    \n",
    "    with warnings.catch_warnings():\n",
    "        warnings.simplefilter(\"ignore\")\n",
    "        ttrace = scipy.stats.ttest_ind(traces_true, traces_false, axis=0, equal_var=False)[0]\n",
    "        \n",
    "    return np.nan_to_num(ttrace) \n",
    "    \n",
    "do_the_ttvla(project)"
   ]
  },
  {
   "cell_type": "code",
   "execution_count": null,
   "metadata": {},
   "outputs": [],
   "source": [
    "len(np.where(abs(np.asarray(testouts)) > 4.5)[0])"
   ]
  },
  {
   "cell_type": "code",
   "execution_count": null,
   "metadata": {},
   "outputs": [],
   "source": [
    "for t in times:\n",
    "    vline = hv.VLine(t[0]*multiplier).opts(color='black', width=1)\n",
    "    curve *= vline"
   ]
  },
  {
   "cell_type": "code",
   "execution_count": null,
   "metadata": {},
   "outputs": [],
   "source": [
    "(curve).opts(height=600, width=1000)"
   ]
  },
  {
   "cell_type": "code",
   "execution_count": null,
   "metadata": {},
   "outputs": [],
   "source": [
    "sort_indices = np.argsort(abs(np.asarray(testouts)))"
   ]
  },
  {
   "cell_type": "code",
   "execution_count": null,
   "metadata": {},
   "outputs": [],
   "source": [
    "testouts[22203]"
   ]
  },
  {
   "cell_type": "code",
   "execution_count": null,
   "metadata": {},
   "outputs": [],
   "source": [
    "sort_indices[-10:] -20000"
   ]
  },
  {
   "cell_type": "markdown",
   "metadata": {},
   "source": [
    "# Now manually find PC where TVLA fails badly:"
   ]
  },
  {
   "cell_type": "code",
   "execution_count": null,
   "metadata": {},
   "outputs": [],
   "source": [
    "#target.set_reg('ETM_TEEVR', '000150a0') # COMP0 or COMP1\n",
    "target.set_reg('ETM_TEEVR', '00000020') # COMP0 only\n",
    "#target.set_reg('ETM_TEEVR', '00000021') # COMP1 only"
   ]
  },
  {
   "cell_type": "code",
   "execution_count": null,
   "metadata": {},
   "outputs": [],
   "source": [
    "target.set_reg('DWT_COMP0', '000012fc')\n",
    "target.set_reg('DWT_COMP1', '00001394')"
   ]
  },
  {
   "cell_type": "code",
   "execution_count": null,
   "metadata": {},
   "outputs": [],
   "source": [
    "# LOOKING FOR 1260!\n",
    "#target.set_reg('DWT_COMP0', '000012c4') # 1266\n",
    "#target.set_reg('DWT_COMP0', '000012c8') # 2236, 2284\n",
    "#target.set_reg('DWT_COMP0', '000012c2') # 1185, 2199\n",
    "#target.set_reg('DWT_COMP0', '000012c4') ## 1404, 2844\n",
    "#target.set_reg('DWT_COMP0', '000012f8') # 1900, 2408\n",
    "#target.set_reg('DWT_COMP0', '000012d0') # 1880, 2388\n",
    "#target.set_reg('DWT_COMP0', '00001208') ## 2276\n",
    "#target.set_reg('DWT_COMP0', '0000123c') # 2124, 2632\n",
    "#target.set_reg('DWT_COMP0', '0000128e') # 2176, 2684\n",
    "#target.set_reg('DWT_COMP0', '0000139a') # 2180\n",
    "#target.set_reg('DWT_COMP0', '0000138c') ## 2244\n",
    "#target.set_reg('DWT_COMP0', '00001358') ## 2192\n",
    "#target.set_reg('DWT_COMP0', '00001376') ## 2220\n",
    "#target.set_reg('DWT_COMP0', '00001370') ## 2212\n",
    "target.set_reg('DWT_COMP0', '00001366') ## 2208\n",
    "\n",
    "#target.set_reg('DWT_COMP0', '000012a2') # 2186\n",
    "#target.set_reg('DWT_COMP0', '000012a6') # "
   ]
  },
  {
   "cell_type": "code",
   "execution_count": null,
   "metadata": {},
   "outputs": [],
   "source": [
    "#target.arm_trace()\n",
    "#target.synced()\n",
    "#target.simpleserial_write('p', bytearray(16), printresult=True)"
   ]
  },
  {
   "cell_type": "code",
   "execution_count": null,
   "metadata": {},
   "outputs": [],
   "source": [
    "target.arm_trace()\n",
    "trace = cw.capture_trace(scope, target.ss, text, key)"
   ]
  },
  {
   "cell_type": "code",
   "execution_count": null,
   "metadata": {},
   "outputs": [],
   "source": [
    "target.fpga_read(target.REG_TRACE_COUNT, 8)"
   ]
  },
  {
   "cell_type": "code",
   "execution_count": null,
   "metadata": {},
   "outputs": [],
   "source": [
    "target.fifo_empty()"
   ]
  },
  {
   "cell_type": "code",
   "execution_count": null,
   "metadata": {},
   "outputs": [],
   "source": [
    "raw = target.read_capture_data()"
   ]
  },
  {
   "cell_type": "code",
   "execution_count": null,
   "metadata": {},
   "outputs": [],
   "source": [
    "len(raw)"
   ]
  },
  {
   "cell_type": "code",
   "execution_count": null,
   "metadata": {},
   "outputs": [],
   "source": [
    "#target.print_raw_data(raw)"
   ]
  },
  {
   "cell_type": "code",
   "execution_count": null,
   "metadata": {},
   "outputs": [],
   "source": [
    "times = target.get_rule_match_times(raw, rawtimes=False, verbose=False)"
   ]
  },
  {
   "cell_type": "code",
   "execution_count": null,
   "metadata": {},
   "outputs": [],
   "source": [
    "#times = target.get_rule_match_times(raw, rawtimes=True, verbose=True)"
   ]
  },
  {
   "cell_type": "code",
   "execution_count": null,
   "metadata": {},
   "outputs": [],
   "source": [
    "len(times)"
   ]
  },
  {
   "cell_type": "code",
   "execution_count": null,
   "metadata": {},
   "outputs": [],
   "source": [
    "for t in times:\n",
    "    print(t[0]*multiplier)"
   ]
  },
  {
   "cell_type": "code",
   "execution_count": null,
   "metadata": {},
   "outputs": [],
   "source": [
    "times"
   ]
  },
  {
   "cell_type": "code",
   "execution_count": null,
   "metadata": {},
   "outputs": [],
   "source": [
    "# plot!"
   ]
  },
  {
   "cell_type": "code",
   "execution_count": null,
   "metadata": {},
   "outputs": [],
   "source": [
    "if scope.clock.adc_src == 'clkgen_x4' or scope.clock.adc_src == 'extclk_x4':\n",
    "    multiplier = 4\n",
    "else:\n",
    "    multiplier = 1"
   ]
  },
  {
   "cell_type": "code",
   "execution_count": null,
   "metadata": {},
   "outputs": [],
   "source": [
    "from bokeh.plotting import figure, show\n",
    "from bokeh.io import output_notebook\n",
    "from bokeh.resources import INLINE\n",
    "from bokeh.models import Span\n",
    "\n",
    "output_notebook(INLINE)\n",
    "p = figure(plot_width=1500)\n",
    "\n",
    "xrange = range(len(trace.wave))\n",
    "p.line(xrange, trace.wave, line_color=\"red\")\n",
    "\n",
    "vlines = []\n",
    "for t in times:\n",
    "    vlines.append(Span(location=t[0]*multiplier, dimension='height', line_color='black', line_width=2))\n",
    "p.renderers.extend(vlines)"
   ]
  },
  {
   "cell_type": "code",
   "execution_count": null,
   "metadata": {},
   "outputs": [],
   "source": [
    "show(p)"
   ]
  },
  {
   "cell_type": "code",
   "execution_count": null,
   "metadata": {},
   "outputs": [],
   "source": []
  }
 ],
 "metadata": {
  "kernelspec": {
   "display_name": "Python 3",
   "language": "python",
   "name": "python3"
  },
  "language_info": {
   "codemirror_mode": {
    "name": "ipython",
    "version": 3
   },
   "file_extension": ".py",
   "mimetype": "text/x-python",
   "name": "python",
   "nbconvert_exporter": "python",
   "pygments_lexer": "ipython3",
   "version": "3.7.4"
  }
 },
 "nbformat": 4,
 "nbformat_minor": 4
}
